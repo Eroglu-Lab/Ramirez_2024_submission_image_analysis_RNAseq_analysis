{
 "cells": [
  {
   "cell_type": "code",
   "execution_count": 1,
   "id": "774a4a1a-f09e-46b5-ae21-d32d4928749b",
   "metadata": {},
   "outputs": [
    {
     "name": "stdout",
     "output_type": "stream",
     "text": [
      "Current working directory: /Users/eroglulab/240926_scRNA_seq_dataset_JJR\n",
      "Current working directory: /Volumes/Argonaut/Hevin_OE_SingleCell_RNAseq/Compare_Outside_Data/SCVI_Integrate_public_datasets_250124\n",
      "1000000000\n"
     ]
    }
   ],
   "source": [
    "import sys\n",
    "import warnings\n",
    "\n",
    "import scrublet as scr\n",
    "import scvi\n",
    "import re\n",
    "import wget\n",
    "import os\n",
    "import numpy as np\n",
    "import pandas as pd\n",
    "import matplotlib.pyplot as plt\n",
    "import seaborn as sns\n",
    "\n",
    "import scanpy as sc\n",
    "import anndata\n",
    "from anndata import AnnData\n",
    "\n",
    "sc.settings.verbosity = 3             # verbosity: errors (0), warnings (1), info (2), hints (3)\n",
    "#sc.logging.print_versions()\n",
    "\n",
    "sc.settings.set_figure_params(dpi=80)\n",
    "%matplotlib inline\n",
    "\n",
    "# Get the current working directory\n",
    "cwd = os.getcwd()\n",
    "\n",
    "# Print the current working directory\n",
    "print(\"Current working directory: {0}\".format(cwd))\n",
    "\n",
    "# Set new working directory\n",
    "os.chdir('/Volumes/Argonaut/Hevin_OE_SingleCell_RNAseq/Compare_Outside_Data/SCVI_Integrate_public_datasets_250124')\n",
    "cwd = os.getcwd()\n",
    "print(\"Current working directory: {0}\".format(cwd))\n",
    "\n",
    "sys.setrecursionlimit(1000000000)\n",
    "print(sys.getrecursionlimit())"
   ]
  },
  {
   "cell_type": "markdown",
   "id": "500ab562-21b3-41ed-b015-0185cd0c9837",
   "metadata": {},
   "source": [
    "# Read in raw counts and combine into raw AnnData object (Ramirez et al. data)"
   ]
  },
  {
   "cell_type": "code",
   "execution_count": null,
   "id": "23103c57-700f-4690-9147-a2cb3e571a1d",
   "metadata": {},
   "outputs": [],
   "source": [
    "adata_J1 = sc.read_10x_mtx(\n",
    "    \"E:\\output_J1/filtered_matrix/sensitivity_4/\", # the directory with the `.mtx` file\n",
    "    var_names=\"gene_symbols\", # use gene symbols for the variable names (variables-axis index)\n",
    "    cache=True, # write a cache file for faster subsequent reading\n",
    ")\n",
    "adata_J1.var_names_make_unique()\n",
    "\n",
    "adata_J3 = sc.read_10x_mtx(\n",
    "    \"E:\\output_J3/filtered_matrix/sensitivity_4/\", # the directory with the `.mtx` file\n",
    "    var_names=\"gene_symbols\", # use gene symbols for the variable names (variables-axis index)\n",
    "    cache=True, # write a cache file for faster subsequent reading\n",
    ")\n",
    "adata_J3.var_names_make_unique()\n",
    "\n",
    "adata_R2 = sc.read_10x_mtx(\n",
    "    \"E:\\output_R2/filtered_matrix/sensitivity_4/\", # the directory with the `.mtx` file\n",
    "    var_names=\"gene_symbols\", # use gene symbols for the variable names (variables-axis index)\n",
    "    cache=True, # write a cache file for faster subsequent reading\n",
    ")\n",
    "adata_R2.var_names_make_unique()\n",
    "\n",
    "adata_R4 = sc.read_10x_mtx(\n",
    "    \"E:\\output_R4/filtered_matrix/sensitivity_4/\", # the directory with the `.mtx` file\n",
    "    var_names=\"gene_symbols\", # use gene symbols for the variable names (variables-axis index)\n",
    "    cache=True, # write a cache file for faster subsequent reading\n",
    ")\n",
    "adata_R4.var_names_make_unique()\n"
   ]
  },
  {
   "cell_type": "code",
   "execution_count": null,
   "id": "30601c13-9cfb-4bba-bfd0-67a121d60e81",
   "metadata": {},
   "outputs": [],
   "source": [
    "# add some metadata\n",
    "adata_J1.obs['condition']=\"mCherry OE\"\n",
    "adata_J1.obs['sample']=\"mCherry-1\"\n",
    "\n",
    "adata_J3.obs['condition']=\"mCherry OE\"\n",
    "adata_J3.obs['sample']=\"mCherry-2\"\n",
    "\n",
    "adata_R2.obs['condition']=\"Hevin OE\"\n",
    "adata_R2.obs['sample']=\"Hevin-1\"\n",
    "\n",
    "adata_R4.obs['condition']=\"Hevin OE\"\n",
    "adata_R4.obs['sample']=\"Hevin-2\"\n",
    "\n",
    "\n",
    "# merge into one object.\n",
    "#adata = adata_J1.concatenate(adata_J3, adata_R2, adata_R4)\n",
    "adata = anndata.concat([adata_J1, adata_J3, adata_R2, adata_R4], join = 'outer')\n",
    "adata.write('/Volumes/Argonaut/Hevin_OE_SingleCell_RNAseq/Compare_Outside_Data/Hevin_AnnData_Objects/jjr_scanpy_outer_join_raw.h5ad')"
   ]
  },
  {
   "cell_type": "markdown",
   "id": "1e755225-fc5a-4db0-ad45-45a0602317d0",
   "metadata": {
    "jp-MarkdownHeadingCollapsed": true
   },
   "source": [
    "# Read in raw counts and combine into raw AnnData object (Hammond et al. data)"
   ]
  },
  {
   "cell_type": "code",
   "execution_count": null,
   "id": "0c1eaadb-007e-4639-85fe-a5c4b0f060ba",
   "metadata": {},
   "outputs": [],
   "source": [
    "directory = \"/Users/eroglulab/Desktop/Jianhong_analysis/Scripts_data/GSE121654\"\n",
    "list = os.listdir(directory)\n",
    "list = np.array(list)\n",
    "list = list[np.char.endswith(list,'.dge.txt.gz')]\n",
    "header = [re.sub('GSM.+?_','',i) for i in list]\n",
    "sample = [re.sub('.dge.txt.gz','',i) for i in header]\n",
    "dir_list = [re.sub('GSM','/Users/eroglulab/Desktop/Jianhong_analysis/Scripts_data/GSE121654/GSM', i) for i in list]"
   ]
  },
  {
   "cell_type": "code",
   "execution_count": null,
   "id": "1ccdc865-17d8-4e17-9d05-d849e679c5cf",
   "metadata": {},
   "outputs": [],
   "source": [
    "condition = ['E14',\n",
    " 'P4',\n",
    " 'P100',\n",
    " 'P4',\n",
    " 'P100',\n",
    " 'P100',\n",
    " 'E14',\n",
    " 'P4',\n",
    " 'Old',\n",
    " 'P5',\n",
    " 'P100',\n",
    " 'P100',\n",
    " 'Old',\n",
    " 'P100',\n",
    " 'P5',\n",
    " 'P5',\n",
    " 'LPC',\n",
    " 'P30',\n",
    " 'P5',\n",
    " 'SALINE',\n",
    " 'E14',\n",
    " 'Old',\n",
    " 'P4',\n",
    " 'LPC',\n",
    " 'SALINE',\n",
    " 'E14',\n",
    " 'P100',\n",
    " 'P5',\n",
    " 'P30',\n",
    " 'P100',\n",
    " 'P5',\n",
    " 'P30',\n",
    " 'LPC',\n",
    " 'E14',\n",
    " 'E14',\n",
    " 'E14',\n",
    " 'P100',\n",
    " 'E14',\n",
    " 'P4',\n",
    " 'P100',\n",
    " 'Old',\n",
    " 'P100',\n",
    " 'P5',\n",
    " 'P4',\n",
    " 'P5',\n",
    " 'P30',\n",
    " 'SALINE']"
   ]
  },
  {
   "cell_type": "code",
   "execution_count": null,
   "id": "af449291-9c6c-4878-b799-fb1c81e961e8",
   "metadata": {},
   "outputs": [],
   "source": [
    "sex = ['M',\n",
    " 'M',\n",
    " 'M',\n",
    " 'M',\n",
    " 'M',\n",
    " 'M',\n",
    " 'M',\n",
    " 'F',\n",
    " 'M',\n",
    " 'F',\n",
    " 'M',\n",
    " 'M',\n",
    " 'M',\n",
    " 'F',\n",
    " 'F',\n",
    " 'F',\n",
    " 'M',\n",
    " 'M',\n",
    " 'F',\n",
    " 'M',\n",
    " 'M',\n",
    " 'M',\n",
    " 'M',\n",
    " 'M',\n",
    " 'M',\n",
    " 'F',\n",
    " 'M',\n",
    " 'F',\n",
    " 'M',\n",
    " 'M',\n",
    " 'F',\n",
    " 'M',\n",
    " 'M',\n",
    " 'F',\n",
    " 'F',\n",
    " 'F',\n",
    " 'F',\n",
    " 'M',\n",
    " 'F',\n",
    " 'F',\n",
    " 'M',\n",
    " 'F',\n",
    " 'M',\n",
    " 'F',\n",
    " 'F',\n",
    " 'M',\n",
    " 'M']"
   ]
  },
  {
   "cell_type": "code",
   "execution_count": null,
   "id": "51e36578-1174-440f-9338-cb12cd8cb670",
   "metadata": {},
   "outputs": [],
   "source": [
    "for i in range(len(dir_list)):\n",
    "    adata_sample = sc.read_text(dir_list[i]).transpose()\n",
    "    \n",
    "    adata_sample.obs['sample']=sample[i]\n",
    "    adata_sample.obs['condition']=condition[i]\n",
    "    adata_sample.obs['sex']=sex[i]\n",
    "    if i == 0:\n",
    "        adata = adata_sample\n",
    "    else:\n",
    "        adata = anndata.concat([adata,adata_sample], join='outer')"
   ]
  },
  {
   "cell_type": "code",
   "execution_count": null,
   "id": "b82ca16b-090a-4a58-adaf-ae2c801e507b",
   "metadata": {},
   "outputs": [],
   "source": [
    "adata.X = np.nan_to_num(adata.X)\n",
    "adata.write('/Volumes/Argonaut/Hevin_OE_SingleCell_RNAseq/Compare_Outside_Data/SCVI_Integrate_public_datasets_250124/Input_Anndata/GSE121654_raw.h5ad')"
   ]
  },
  {
   "cell_type": "markdown",
   "id": "1d6d79d5-da78-427e-80c7-3d06ab6e2374",
   "metadata": {
    "jp-MarkdownHeadingCollapsed": true
   },
   "source": [
    "# Read in raw counts and combine into raw AnnData object (Li et al. data)"
   ]
  },
  {
   "cell_type": "code",
   "execution_count": null,
   "id": "11637b7a-0442-4a12-9a9e-bfb82012554a",
   "metadata": {},
   "outputs": [],
   "source": [
    "import GEOparse\n",
    "gse = GEOparse.get_GEO(geo=\"GSE123025\", destdir='/Volumes/Argonaut/Hevin_OE_SingleCell_RNAseq/Compare_Outside_Data/SCVI_Integrate_public_datasets_250124/GEOparse/')\n",
    "metadata = gse.phenotype_data\n",
    "\n",
    "li_raw = sc.read_csv('/Volumes/Argonaut/Hevin_OE_SingleCell_RNAseq/Compare_Outside_Data/SCVI_Integrate_public_datasets_250124/GEO_data/GSE123025_Single_myeloid_1922_cells_processed_data.csv.gz')\n",
    "li_raw = li_raw.transpose()"
   ]
  },
  {
   "cell_type": "code",
   "execution_count": null,
   "id": "fa4a7ae8-ba46-4e6b-a2fa-4b122e66649d",
   "metadata": {},
   "outputs": [],
   "source": [
    "metadata_to_add = ['title','characteristics_ch1.1.genotype', 'characteristics_ch1.2.tissue',\n",
    "       'characteristics_ch1.3.age', 'characteristics_ch1.4.gate',\n",
    "       'characteristics_ch1.5.plate_id', 'characteristics_ch1.6.well_id',\n",
    "       'characteristics_ch1.7.pooled_library_names',\n",
    "       'characteristics_ch1.8.total_counts',\n",
    "       'characteristics_ch1.9.detected_genes',\n",
    "       'characteristics_ch1.10.qc_total_counts',\n",
    "       'characteristics_ch1.11.qc_detected_genes',\n",
    "       'characteristics_ch1.12.qc_ercc_correlation',\n",
    "       'characteristics_ch1.13.qc_all_3_criteria']"
   ]
  },
  {
   "cell_type": "code",
   "execution_count": null,
   "id": "8ae77888-b6e0-49f4-bfcd-48fe8e6c0def",
   "metadata": {},
   "outputs": [],
   "source": [
    "for x in metadata_to_add:\n",
    "    #new_name = re.sub(r'^.*?_ch', '', x)\n",
    "    index = x.rfind('.')\n",
    "    new_name = x[index+1:len(x)]\n",
    "    if x == metadata_to_add[0]:\n",
    "        meta = pd.DataFrame({new_name:metadata[x]})\n",
    "    else:\n",
    "        meta[new_name] = metadata[x]"
   ]
  },
  {
   "cell_type": "code",
   "execution_count": null,
   "id": "3d327e65-de10-4fc8-ae22-2f7ec05ad84f",
   "metadata": {},
   "outputs": [],
   "source": [
    "for x in meta.keys().to_list():\n",
    "    li_raw.obs[x] = meta[x].to_list()"
   ]
  },
  {
   "cell_type": "code",
   "execution_count": null,
   "id": "5ea470aa-82c1-49c4-a98a-34086b66426a",
   "metadata": {},
   "outputs": [],
   "source": [
    "gse2 = GEOparse.get_GEO(geo=\"GSE123022\", destdir='/Volumes/Argonaut/Hevin_OE_SingleCell_RNAseq/Compare_Outside_Data/SCVI_Integrate_public_datasets_250124/GEOparse/')\n",
    "metadata2 = gse2.phenotype_data\n",
    "\n",
    "li_raw2 = sc.read_csv('/Volumes/Argonaut/Hevin_OE_SingleCell_RNAseq/Compare_Outside_Data/SCVI_Integrate_public_datasets_250124/GEO_data/GSE123022_C57BL6J_TREM2KO_369_Microglia_processed_data.csv.gz')\n",
    "li_raw2 = li_raw2.transpose()"
   ]
  },
  {
   "cell_type": "code",
   "execution_count": null,
   "id": "21240b51-a700-4883-b0d8-69a458b3a7a7",
   "metadata": {},
   "outputs": [],
   "source": [
    "for x in metadata_to_add:\n",
    "    #new_name = re.sub(r'^.*?_ch', '', x)\n",
    "    index = x.rfind('.')\n",
    "    new_name = x[index+1:len(x)]\n",
    "    if x == metadata_to_add[0]:\n",
    "        meta2 = pd.DataFrame({new_name:metadata2[x]})\n",
    "    else:\n",
    "        meta2[new_name] = metadata2[x]"
   ]
  },
  {
   "cell_type": "code",
   "execution_count": null,
   "id": "a1e94873-641c-4d1b-93f9-937b55090e01",
   "metadata": {},
   "outputs": [],
   "source": [
    "for x in meta2.keys().to_list():\n",
    "    li_raw2.obs[x] = meta2[x].to_list()"
   ]
  },
  {
   "cell_type": "code",
   "execution_count": null,
   "id": "31a0c6fb-eee0-4acd-9624-1eaa67267261",
   "metadata": {},
   "outputs": [],
   "source": [
    "li_raw.obs['run'] = '1'\n",
    "li_raw2.obs['run'] = '2'"
   ]
  },
  {
   "cell_type": "code",
   "execution_count": null,
   "id": "25057ebc-a54e-486d-a72d-6cecd0547f83",
   "metadata": {},
   "outputs": [],
   "source": [
    "from scipy import sparse\n",
    "\n",
    "sparse_X = sparse.csr_matrix(li_raw.X)\n",
    "li_raw.X = sparse_X\n",
    "\n",
    "sparse_X = sparse.csr_matrix(li_raw2.X)\n",
    "li_raw2.X = sparse_X"
   ]
  },
  {
   "cell_type": "code",
   "execution_count": null,
   "id": "a4c00db0-a253-4709-912f-26608f73d68c",
   "metadata": {},
   "outputs": [],
   "source": [
    "li_raw_total = anndata.concat([li_raw,li_raw2], join = 'outer')\n",
    "\n",
    "li_raw_total.write('/Volumes/Argonaut/Hevin_OE_SingleCell_RNAseq/Compare_Outside_Data/SCVI_Integrate_public_datasets_250124/Input_Anndata/GSE123025_GSE123022_raw.h5ad')"
   ]
  },
  {
   "cell_type": "markdown",
   "id": "2c14f610-ee62-4572-9954-20bfdf37cf92",
   "metadata": {
    "jp-MarkdownHeadingCollapsed": true
   },
   "source": [
    "# Read in raw counts and combine into raw AnnData object (Keren-Shaul et al. data)"
   ]
  },
  {
   "cell_type": "code",
   "execution_count": null,
   "id": "d59294ab-d516-4d32-8e94-49577dce6c86",
   "metadata": {},
   "outputs": [],
   "source": [
    "export_path = '/Volumes/Argonaut/Hevin_OE_SingleCell_RNAseq/Compare_Outside_Data/ProjecTILs/250122_ProjecTILs_KerenShauletal-DAM_Lietal-PAM/AnnDataObjects/'"
   ]
  },
  {
   "cell_type": "code",
   "execution_count": null,
   "id": "9e3ad177-0f6d-418f-9946-5e6d3708c29d",
   "metadata": {},
   "outputs": [],
   "source": [
    "metadata = pd.read_csv('/Volumes/Argonaut/Hevin_OE_SingleCell_RNAseq/Compare_Outside_Data/GSE98969_Keren-Shauletal/GSE98969_experimental_design_f(2).csv')\n",
    "directory = '/Volumes/Argonaut/Hevin_OE_SingleCell_RNAseq/Compare_Outside_Data/GSE98969_Keren-Shauletal/GSE98969_RAW/'\n",
    "list = os.listdir(directory)\n",
    "list = np.array(list)\n",
    "list = list[np.char.startswith(list,'GSM')]\n",
    "list = list[np.char.endswith(list,'.txt.gz')]\n",
    "dir_list = [re.sub('GSM',directory+\"GSM\", i) for i in list]\n",
    "\n",
    "for i in dir_list:\n",
    "    header = re.sub(directory,'',i)\n",
    "    header = re.sub('GSM.+?_','',header)\n",
    "    sample = re.sub('.txt.gz','',header)\n",
    "    adata_sample = sc.read_text(i).transpose()\n",
    "    sample_metadata = metadata[metadata['Amp_batch_ID']==sample]\n",
    "    list_of_metadata = sample_metadata.keys().to_list()\n",
    "    \n",
    "    for x in list_of_metadata:\n",
    "        adata_sample.obs[x] = sample_metadata[x].to_list()\n",
    "    \n",
    "    if i == dir_list[0]:\n",
    "        adata = adata_sample\n",
    "    else:\n",
    "        adata = anndata.concat([adata,adata_sample], join='outer')"
   ]
  },
  {
   "cell_type": "code",
   "execution_count": null,
   "id": "7ed64d2b-a154-4fa4-bac7-f5fd599c1bfa",
   "metadata": {},
   "outputs": [],
   "source": [
    "adata.write(export_path+'Keren-Shauletal_raw.h5ad')"
   ]
  },
  {
   "cell_type": "markdown",
   "id": "98e00cc3-4945-4229-9423-8b16390d0681",
   "metadata": {
    "jp-MarkdownHeadingCollapsed": true
   },
   "source": [
    "# Read in raw counts and combine into raw AnnData object (Zhou et al. data)"
   ]
  },
  {
   "cell_type": "code",
   "execution_count": null,
   "id": "3c1aa7bf-7b32-49cd-a95f-c13554e2fe4d",
   "metadata": {},
   "outputs": [],
   "source": [
    "import GEOparse\n",
    "gse_zhou = GEOparse.get_GEO(geo=\"GSE140511\", destdir='/Volumes/Argonaut/Hevin_OE_SingleCell_RNAseq/Compare_Outside_Data/SCVI_Integrate_public_datasets_250124/GEOparse/')\n",
    "metadata_zhou = gse_zhou.phenotype_data"
   ]
  },
  {
   "cell_type": "code",
   "execution_count": null,
   "id": "753ab23a-9bb7-4fd6-9de2-f428f73670f0",
   "metadata": {},
   "outputs": [],
   "source": [
    "directory1 = '/Volumes/Argonaut/Hevin_OE_SingleCell_RNAseq/Compare_Outside_Data/SCVI_Integrate_public_datasets_250124/GEO_data/GSE140511_RAW/Dataset1/'\n",
    "directory2 = '/Volumes/Argonaut/Hevin_OE_SingleCell_RNAseq/Compare_Outside_Data/SCVI_Integrate_public_datasets_250124/GEO_data/GSE140511_RAW/Dataset2/'"
   ]
  },
  {
   "cell_type": "code",
   "execution_count": null,
   "id": "f090ea17-6473-4930-b944-283123c78668",
   "metadata": {},
   "outputs": [],
   "source": [
    "directory = directory1\n",
    "\n",
    "filelist = os.listdir(directory)\n",
    "ends = filelist\n",
    "\n",
    "filelist = np.array(filelist)\n",
    "filelist = filelist[np.char.startswith(filelist,'GSM')]\n",
    "filelist = filelist[np.char.endswith(filelist,'matrix.mtx.gz')]\n",
    "filelist = filelist.tolist()\n",
    "\n",
    "ends = np.array(ends)\n",
    "ends = ends[np.char.startswith(ends,'GSM')]\n",
    "ends = [ re.sub(r'G.*_.*_','', x) for x in ends]\n",
    "footer = np.unique(ends)\n",
    "footer = footer.tolist()\n",
    "\n",
    "for x in filelist:\n",
    "    index = x.find('matrix')\n",
    "    header = x[0:index]\n",
    "    sample_info = re.sub(r'G.*?_','',header)\n",
    "    sample_info = sample_info[:-1]\n",
    "\n",
    "    #print(header)\n",
    "    #print(sample_info)\n",
    "\n",
    "    for y in footer:\n",
    "        file = header+y\n",
    "        filepath = directory+file\n",
    "\n",
    "        if y == 'barcodes.tsv.gz':\n",
    "            #print(filepath)\n",
    "            barcodes = pd.read_csv(filepath,sep='\\t',header=None)\n",
    "        if y == 'features.tsv.gz':\n",
    "            #print(filepath)\n",
    "            genes = pd.read_csv(filepath,sep='\\t',header=None)\n",
    "            #print(genes[1][0:5])\n",
    "        if y == 'matrix.mtx.gz':\n",
    "            #print(filepath)\n",
    "            sample = sc.read_mtx(filepath).transpose()\n",
    "\n",
    "    sample.obs_names = barcodes[0].to_list()\n",
    "    sample.var_names = genes[1].to_list()\n",
    "\n",
    "    sample.obs['sample'] = sample_info\n",
    "    sample.obs_names_make_unique()\n",
    "    sample.var_names_make_unique()\n",
    "\n",
    "    #print(sample)\n",
    "\n",
    "    if x == filelist[0]:\n",
    "        adata = sample\n",
    "        #print(adata.n_obs)\n",
    "    else:\n",
    "        adata = anndata.concat([adata,sample], join = 'outer')\n",
    "        #print(adata.n_obs)\n",
    "\n",
    "print(adata)"
   ]
  },
  {
   "cell_type": "code",
   "execution_count": null,
   "id": "e38c7486-6970-4e8a-968e-51b0bc600538",
   "metadata": {},
   "outputs": [],
   "source": [
    "adata.obs['age']='P196'\n",
    "\n",
    "adata_7months = adata\n",
    "adata_7months"
   ]
  },
  {
   "cell_type": "code",
   "execution_count": null,
   "id": "ce6a33c9-33b9-41b2-aadf-6dc845b15d4b",
   "metadata": {},
   "outputs": [],
   "source": [
    "directory = directory2\n",
    "\n",
    "filelist = os.listdir(directory)\n",
    "ends = filelist\n",
    "\n",
    "filelist = np.array(filelist)\n",
    "filelist = filelist[np.char.startswith(filelist,'GSM')]\n",
    "filelist = filelist[np.char.endswith(filelist,'matrix.mtx.gz')]\n",
    "filelist = filelist.tolist()\n",
    "\n",
    "ends = np.array(ends)\n",
    "ends = ends[np.char.startswith(ends,'GSM')]\n",
    "ends = [ re.sub(r'G.*_.*_','', x) for x in ends]\n",
    "footer = np.unique(ends)\n",
    "footer = footer.tolist()\n",
    "\n",
    "for x in filelist:\n",
    "    index = x.find('matrix')\n",
    "    header = x[0:index]\n",
    "    sample_info = re.sub(r'G.*?_','',header)\n",
    "    sample_info = sample_info[:-1]\n",
    "\n",
    "    #print(header)\n",
    "    #print(sample_info)\n",
    "\n",
    "    for y in footer:\n",
    "        file = header+y\n",
    "        filepath = directory+file\n",
    "\n",
    "        if y == 'barcodes.tsv.gz':\n",
    "            #print(filepath)\n",
    "            barcodes = pd.read_csv(filepath,sep='\\t',header=None)\n",
    "        if y == 'genes.tsv.gz':\n",
    "            #print(filepath)\n",
    "            genes = pd.read_csv(filepath,sep='\\t',header=None)\n",
    "            print(genes[1][0:5])\n",
    "        if y == 'matrix.mtx.gz':\n",
    "            #print(filepath)\n",
    "            sample = sc.read_mtx(filepath).transpose()\n",
    "\n",
    "    sample.obs_names = barcodes[0].to_list()\n",
    "    sample.var_names = genes[1].to_list()\n",
    "\n",
    "    sample.obs['sample'] = sample_info\n",
    "    sample.obs_names_make_unique()\n",
    "    sample.var_names_make_unique()\n",
    "\n",
    "    #print(sample)\n",
    "\n",
    "    if x == filelist[0]:\n",
    "        adata = sample\n",
    "        #print(adata.n_obs)\n",
    "    else:\n",
    "        adata = anndata.concat([adata,sample], join = 'outer')\n",
    "        #print(adata.n_obs)\n",
    "\n",
    "#print(adata)"
   ]
  },
  {
   "cell_type": "code",
   "execution_count": null,
   "id": "fba5bcec-1e9b-4351-bed9-a5cbd2c83f72",
   "metadata": {},
   "outputs": [],
   "source": [
    "adata.obs['age'] = 'P420'\n",
    "adata_15months = adata\n",
    "adata_15months"
   ]
  },
  {
   "cell_type": "code",
   "execution_count": null,
   "id": "3c0e0414-97c7-47fe-ace1-624a135b45cc",
   "metadata": {},
   "outputs": [],
   "source": [
    "adata_zhou = anndata.concat([adata_7months,adata_15months],join='outer')\n",
    "adata_zhou.obs_names_make_unique()\n",
    "adata_zhou.write('/Volumes/Argonaut/Hevin_OE_SingleCell_RNAseq/Compare_Outside_Data/SCVI_Integrate_public_datasets_250124/Input_Anndata/GSE140511_raw.h5ad')"
   ]
  },
  {
   "cell_type": "markdown",
   "id": "d1ba5de6-2a4b-4168-bb1c-091da3a8d1f1",
   "metadata": {
    "jp-MarkdownHeadingCollapsed": true
   },
   "source": [
    "# Read in raw counts and combine into raw AnnData object (Escoubas et al. data)"
   ]
  },
  {
   "cell_type": "code",
   "execution_count": null,
   "id": "9a342a06-cb8f-4378-874e-e6f00d392e96",
   "metadata": {},
   "outputs": [],
   "source": [
    "escoubas_raw = sc.read_csv('/Volumes/Argonaut/Hevin_OE_SingleCell_RNAseq/Compare_Outside_Data/GSE173173_Escoubasetal/GSE173173_Dorman_P5_P7MG_counts.csv.gz')\n",
    "escoubas_raw = escoubas_raw.transpose()\n",
    "\n",
    "escoubas_metadata = pd.read_csv('/Volumes/Argonaut/Hevin_OE_SingleCell_RNAseq/Compare_Outside_Data/GSE173173_Escoubasetal/GSE173173_Dorman_P5_P7MG_metadata_clustering.csv.gz')"
   ]
  },
  {
   "cell_type": "code",
   "execution_count": null,
   "id": "4e6f167a-4b8e-4d39-b333-e1183a83bb9a",
   "metadata": {},
   "outputs": [],
   "source": [
    "escoubas_raw.obs['age'] = escoubas_metadata['age'].to_numpy()\n",
    "escoubas_raw.obs['sex'] = escoubas_metadata['sex'].to_numpy()\n",
    "escoubas_raw.obs['condition'] = escoubas_metadata['condition'].to_numpy()\n",
    "escoubas_raw.obs['sample'] = escoubas_metadata['fulldescription'].to_numpy()\n",
    "escoubas_raw.obs['cluster'] = escoubas_metadata['finalclusters'].to_numpy()"
   ]
  },
  {
   "cell_type": "code",
   "execution_count": null,
   "id": "cad76c29-40a5-4096-bbb5-5a78d898617f",
   "metadata": {},
   "outputs": [],
   "source": [
    "escoubas_raw.write('/Volumes/Argonaut/Hevin_OE_SingleCell_RNAseq/Compare_Outside_Data/SCVI_Integrate_public_datasets_250124/Input_Anndata/GSE173173_raw.h5ad')"
   ]
  },
  {
   "cell_type": "markdown",
   "id": "f40b82ae-07d9-4a2d-add2-43d9aee2f8a8",
   "metadata": {
    "jp-MarkdownHeadingCollapsed": true
   },
   "source": [
    "# Combine all datasets used for analysis"
   ]
  },
  {
   "cell_type": "code",
   "execution_count": null,
   "id": "cf6606eb-b3d7-46e8-a90c-7e834e3b231a",
   "metadata": {},
   "outputs": [],
   "source": [
    "adata_hev = sc.read_h5ad('/Volumes/Argonaut/Hevin_OE_SingleCell_RNAseq/Compare_Outside_Data/Hevin_AnnData_Objects/jjr_scanpy_outer_join_raw.h5ad')\n",
    "adata_li = sc.read_h5ad('/Volumes/Argonaut/Hevin_OE_SingleCell_RNAseq/Compare_Outside_Data/SCVI_Integrate_public_datasets_250124/Input_Anndata/GSE123025_GSE123022_raw.h5ad')\n",
    "adata_ham = sc.read_h5ad('/Volumes/Argonaut/Hevin_OE_SingleCell_RNAseq/Compare_Outside_Data/SCVI_Integrate_public_datasets_250124/Input_Anndata/GSE121654_raw.h5ad')\n",
    "adata_ker = sc.read_h5ad('/Volumes/Argonaut/Hevin_OE_SingleCell_RNAseq/Compare_Outside_Data/SCVI_Integrate_public_datasets_250124/Input_Anndata/GSE98969_raw.h5ad')\n",
    "adata_esc = sc.read_h5ad('/Volumes/Argonaut/Hevin_OE_SingleCell_RNAseq/Compare_Outside_Data/SCVI_Integrate_public_datasets_250124/Input_Anndata/GSE173173_raw.h5ad')\n",
    "adata_zho = sc.read_h5ad('/Volumes/Argonaut/Hevin_OE_SingleCell_RNAseq/Compare_Outside_Data/SCVI_Integrate_public_datasets_250124/Input_Anndata/GSE140511_raw.h5ad')"
   ]
  },
  {
   "cell_type": "code",
   "execution_count": null,
   "id": "04cd32de-b750-46f0-974d-32478230424f",
   "metadata": {},
   "outputs": [],
   "source": [
    "adata_ham.var_names = adata_ham.var.index.str.replace('.','-') # The Hammond dataset is the only that seems to use 'mt.' instead of 'mt-' for mitochondrial genes."
   ]
  },
  {
   "cell_type": "code",
   "execution_count": null,
   "id": "d9e7b87f-2a44-4014-af5a-506744804862",
   "metadata": {},
   "outputs": [],
   "source": [
    "adata_hev.obs['dataset'] = 'Ramirezetal'\n",
    "adata_li.obs['dataset'] = 'Lietal'\n",
    "adata_ham.obs['dataset'] = 'Hammondetal'\n",
    "adata_ker.obs['dataset'] = 'Keren-Shauletal'\n",
    "adata_esc.obs['dataset'] = 'Escoubasetal'\n",
    "adata_zho.obs['dataset'] = 'Zhouetal'"
   ]
  },
  {
   "cell_type": "code",
   "execution_count": null,
   "id": "a9e1f89e-d56b-41a6-a4a9-07894016c9f1",
   "metadata": {},
   "outputs": [],
   "source": [
    "adata_hev.obs_names_make_unique()\n",
    "adata_li.obs_names_make_unique()\n",
    "adata_ham.obs_names_make_unique()\n",
    "adata_ker.obs_names_make_unique()\n",
    "adata_esc.obs_names_make_unique()\n",
    "adata_zho.obs_names_make_unique()\n",
    "\n",
    "adata_hev.var_names_make_unique()\n",
    "adata_li.var_names_make_unique()\n",
    "adata_ham.var_names_make_unique()\n",
    "adata_ker.var_names_make_unique()\n",
    "adata_esc.var_names_make_unique()\n",
    "adata_zho.var_names_make_unique()"
   ]
  },
  {
   "cell_type": "code",
   "execution_count": null,
   "id": "71b42781-bd18-4e5c-ab37-dbf4e62b1333",
   "metadata": {},
   "outputs": [],
   "source": [
    "#This concatenates the data to make sure all datasets have the same genes listed even though they don't all have counts for all of them.\n",
    "\n",
    "adata_concat = anndata.concat([adata_hev, adata_li, adata_ham, adata_ker, adata_esc, adata_zho], join = 'outer')"
   ]
  },
  {
   "cell_type": "code",
   "execution_count": null,
   "id": "29dc1fce-4805-42c5-987d-d7b437ba7a9b",
   "metadata": {},
   "outputs": [],
   "source": [
    "adata_concat.obs_names_make_unique()"
   ]
  },
  {
   "cell_type": "code",
   "execution_count": null,
   "id": "b3b782d4-aa35-4387-868d-07d0f01be8fb",
   "metadata": {},
   "outputs": [],
   "source": [
    "#Setting a filter to remove cells that across all datasets have less than 200 genes annotated\n",
    "# Setting a filter to remove genes that across all datasets don't have more than 3 cells\n",
    "sc.pp.filter_cells(adata_concat, min_genes=200)\n",
    "sc.pp.filter_genes(adata_concat, min_cells=3)"
   ]
  },
  {
   "cell_type": "code",
   "execution_count": null,
   "id": "89d05907-be0e-40b8-90b0-f1568177b193",
   "metadata": {},
   "outputs": [],
   "source": [
    "#This separates the data back out to their respective datasets to do the quality control steps separately.\n",
    "\n",
    "adata_hev = adata_concat[adata_concat.obs['dataset'] == 'Ramirezetal']\n",
    "adata_li = adata_concat[adata_concat.obs['dataset'] == 'Lietal']\n",
    "adata_ham = adata_concat[adata_concat.obs['dataset'] == 'Hammondetal']\n",
    "adata_ker = adata_concat[adata_concat.obs['dataset'] == 'Keren-Shauletal']\n",
    "adata_esc = adata_concat[adata_concat.obs['dataset'] == 'Escoubasetal']\n",
    "adata_zho = adata_concat[adata_concat.obs['dataset'] == 'Zhouetal']"
   ]
  },
  {
   "cell_type": "markdown",
   "id": "cde3c00e-39db-45c2-af1f-0542ce6c4a37",
   "metadata": {},
   "source": [
    "# Observation variables to include in every dataset:\n",
    "#### 1. Condition = Experimental condition for the experiment\n",
    "#### 2. Age = Age (in days) of the animal from which the cell was derived\n",
    "#### 3. Sample = Identifier for the experiment to indicate biological replicates\n",
    "#### 4. Genotype = Genotypes relevant for the experiment\n",
    "#### 5. Batch = Sequencing batch (either given or inferred) used to train SCVI integration model\n",
    "#### 6. Dataset = Dataset of origin for the cells\n",
    "#### 7. Cluster = Clusters relevant for the previous experiment"
   ]
  },
  {
   "cell_type": "markdown",
   "id": "65a5bb11-3087-4ee5-bb13-85a4ce8bb1e5",
   "metadata": {
    "jp-MarkdownHeadingCollapsed": true
   },
   "source": [
    "# Initial QC and filtering for Ramirez et al. data"
   ]
  },
  {
   "cell_type": "code",
   "execution_count": null,
   "id": "274ec1d2-74f0-459d-93ed-6a9e122f5f1c",
   "metadata": {},
   "outputs": [],
   "source": [
    "adata_hev.obs['genotype'] = 'WT'\n",
    "adata_hev.obs['age'] = 'P15'\n",
    "adata_hev.obs['batch'] = 'batch0'"
   ]
  },
  {
   "cell_type": "code",
   "execution_count": null,
   "id": "23c834f7-2cc9-493a-b2be-103cd7e3a98d",
   "metadata": {},
   "outputs": [],
   "source": [
    "adata_hev.var['mt'] = adata_hev.var_names.str.startswith('mt-')  # annotate the group of mitochondrial genes as 'mt'\n",
    "sc.pp.calculate_qc_metrics(adata_hev, qc_vars=['mt'], percent_top=None, log1p=False, inplace=True)\n",
    "sc.pl.violin(adata_hev, ['n_genes_by_counts', 'total_counts', 'pct_counts_mt'],\n",
    "             jitter=0.4, multi_panel=True)"
   ]
  },
  {
   "cell_type": "code",
   "execution_count": null,
   "id": "7b080dfa-2fe5-4bce-bf34-0f13e3a9847c",
   "metadata": {},
   "outputs": [],
   "source": [
    "sc.pl.scatter(adata_hev, x='total_counts', y='pct_counts_mt')\n",
    "sc.pl.scatter(adata_hev, x='total_counts', y='n_genes_by_counts')\n",
    "\n",
    "adata_hev = adata_hev[adata_hev.obs.n_genes_by_counts < 4000, :]\n",
    "adata_hev = adata_hev[adata_hev.obs.pct_counts_mt < 7.5, :]\n",
    "adata_hev = adata_hev[adata_hev.obs.total_counts < 10000, :]"
   ]
  },
  {
   "cell_type": "markdown",
   "id": "f5140546-0ec1-499e-8b26-1e14ada2c316",
   "metadata": {
    "jp-MarkdownHeadingCollapsed": true
   },
   "source": [
    "# Initial QC and filtering for Hammond et al. data"
   ]
  },
  {
   "cell_type": "code",
   "execution_count": null,
   "id": "fdea20cc-f484-4c29-8a68-82d09fb93c94",
   "metadata": {},
   "outputs": [],
   "source": [
    "sample_info = adata_ham.obs['sample'].to_list()\n",
    "age = [re.sub(r'_.*','',x) for x in sample_info]\n",
    "adata_ham.obs['age'] = age"
   ]
  },
  {
   "cell_type": "code",
   "execution_count": null,
   "id": "469f0104-9f60-4122-9835-af155ac4a882",
   "metadata": {},
   "outputs": [],
   "source": [
    "adata_ham.obs['genotype'] = 'WT'"
   ]
  },
  {
   "cell_type": "code",
   "execution_count": null,
   "id": "8ca53e3c-c176-4cd5-b8fb-aff9c60b4bae",
   "metadata": {},
   "outputs": [],
   "source": [
    "# These batch assignments were made by inferring batch effects after plotting each sample with its condition\n",
    "\n",
    "indices = adata_ham.obs.index[adata_ham.obs['sample'].isin(\n",
    "    ['E14_F_B10','E14_F_B12','E14_F_B6','E14_F_C1','E14_M_B11','E14_M_B7','E14_M_B8','E14_M_B9'])].to_list()\n",
    "adata_ham.obs.loc[indices,'batch'] = 'batch1'\n",
    "\n",
    "indices = adata_ham.obs.index[adata_ham.obs['sample'].isin(\n",
    "    ['P4_F_A6','P4_M_A4','P4_M_A5'])].to_list()\n",
    "adata_ham.obs.loc[indices,'batch'] = 'batch2'\n",
    "\n",
    "indices = adata_ham.obs.index[adata_ham.obs['sample'].isin(\n",
    "    ['P4_F_B3','P4_F_B4','P4_M_B5'])].to_list()\n",
    "adata_ham.obs.loc[indices,'batch'] = 'batch3'\n",
    "\n",
    "indices = adata_ham.obs.index[adata_ham.obs['sample'].isin(\n",
    "    ['P5_F_A2', 'P5_M_A1'])].to_list()\n",
    "adata_ham.obs.loc[indices,'batch'] = 'batch4'\n",
    "\n",
    "indices = adata_ham.obs.index[adata_ham.obs['sample'].isin(\n",
    "    ['P30_Male_1','P30_Male_2'])].to_list()\n",
    "adata_ham.obs.loc[indices,'batch'] = 'batch5'\n",
    "\n",
    "indices = adata_ham.obs.index[adata_ham.obs['sample'].isin(\n",
    "    ['P30_male_3','P30_male_4'])].to_list()\n",
    "adata_ham.obs.loc[indices,'batch'] = 'batch6'\n",
    "\n",
    "indices = adata_ham.obs.index[adata_ham.obs['sample'].isin(\n",
    "    ['P100_female_1','P100_female_2','P100_Male_1', 'P100_Male_2'])].to_list()\n",
    "adata_ham.obs.loc[indices,'batch'] = 'batch7'\n",
    "\n",
    "indices = adata_ham.obs.index[adata_ham.obs['sample'].isin(\n",
    "    ['P100_female_3','P100_female_4','P100_male_3', 'P100_male_4'])].to_list()\n",
    "adata_ham.obs.loc[indices,'batch'] = 'batch8'\n",
    "\n",
    "indices = adata_ham.obs.index[adata_ham.obs['sample'].isin(\n",
    "    ['P100_M_A1','P100_M_A2',])].to_list()\n",
    "adata_ham.obs.loc[indices,'batch'] = 'batch9'\n",
    "\n",
    "indices = adata_ham.obs.index[adata_ham.obs['sample'].isin(\n",
    "    ['P100_M_B5', ])].to_list()\n",
    "adata_ham.obs.loc[indices,'batch'] = 'batch10'\n",
    "\n",
    "indices = adata_ham.obs.index[adata_ham.obs['sample'].isin(\n",
    "    ['Old_male_1','Old_male_2'])].to_list()\n",
    "adata_ham.obs.loc[indices,'batch'] = 'batch11'\n",
    "\n",
    "indices = adata_ham.obs.index[adata_ham.obs['sample'].isin(\n",
    "    ['Old_male_3','Old_male_4'])].to_list()\n",
    "adata_ham.obs.loc[indices,'batch'] = 'batch12'\n",
    "\n",
    "indices = adata_ham.obs.index[adata_ham.obs['sample'].isin(\n",
    "    ['P100_M_LPC_A6','P100_M_SALINE_A3','P100_M_LPC_A4','P100_M_SALINE_A5'])].to_list()\n",
    "adata_ham.obs.loc[indices,'batch'] = 'batch13'\n",
    "\n",
    "indices = adata_ham.obs.index[adata_ham.obs['sample'].isin(\n",
    "    ['P100_M_LPC_B10','P100_M_SALINE_B9'])].to_list()\n",
    "adata_ham.obs.loc[indices,'batch'] = 'batch14'\n",
    "\n",
    "indices = adata_ham.obs.index[adata_ham.obs['sample'].isin(['P5_female_nopercoll_1', 'P5_female_nopercoll_2', 'P5_female_nopercoll_3','P5_female_percoll_1', 'P5_female_percoll_2', 'P5_female_percoll_3'])].to_list()\n",
    "adata_ham.obs.loc[indices,'batch'] = 'batch22'"
   ]
  },
  {
   "cell_type": "code",
   "execution_count": null,
   "id": "53b1072b-bc8d-48f6-8c0c-d31e0eed8ec1",
   "metadata": {},
   "outputs": [],
   "source": [
    "adata_ham.obs['condition'] = adata_ham.obs['condition'].cat.set_categories(\n",
    "    ['E14', 'LPC', 'Old', 'P4', 'P5', 'P30', 'P100', 'SALINE','nopercoll','percoll'])\n",
    "\n",
    "indices = adata_ham.obs.index[adata_ham.obs['sample'].isin(\n",
    "    ['P5_female_nopercoll_3','P5_female_nopercoll_1','P5_female_nopercoll_2'])].to_list()\n",
    "adata_ham.obs.loc[indices,'condition'] = 'nopercoll'\n",
    "\n",
    "indices = adata_ham.obs.index[adata_ham.obs['sample'].isin(\n",
    "    ['P5_female_percoll_2','P5_female_percoll_1','P5_female_percoll_3'])].to_list()\n",
    "adata_ham.obs.loc[indices,'condition'] = 'percoll'"
   ]
  },
  {
   "cell_type": "code",
   "execution_count": null,
   "id": "53002482-ad90-47ec-b1a8-6b002e1008a4",
   "metadata": {},
   "outputs": [],
   "source": [
    "adata_ham.var['mt'] = adata_ham.var_names.str.startswith('mt-')  # annotate the group of mitochondrial genes as 'mt'\n",
    "sc.pp.calculate_qc_metrics(adata_ham, qc_vars=['mt'], percent_top=None, log1p=False, inplace=True)\n",
    "sc.pl.violin(adata_ham, ['n_genes_by_counts', 'total_counts', 'pct_counts_mt'],\n",
    "             jitter=0.4, multi_panel=True)"
   ]
  },
  {
   "cell_type": "code",
   "execution_count": null,
   "id": "8121ad91-94bc-45d3-9245-0a4b4a00421a",
   "metadata": {},
   "outputs": [],
   "source": [
    "sc.pl.scatter(adata_ham, x='total_counts', y='pct_counts_mt')\n",
    "sc.pl.scatter(adata_ham, x='total_counts', y='n_genes_by_counts')\n",
    "\n",
    "adata_ham = adata_ham[adata_ham.obs.n_genes_by_counts < 2500, :]\n",
    "adata_ham = adata_ham[adata_ham.obs.pct_counts_mt < 2.5, :]\n",
    "adata_ham = adata_ham[adata_ham.obs.total_counts < 8000, :]"
   ]
  },
  {
   "cell_type": "markdown",
   "id": "20df0139-2e33-41e2-a9d0-b21723787384",
   "metadata": {
    "jp-MarkdownHeadingCollapsed": true
   },
   "source": [
    "# Initial QC and filtering for Li et al. data"
   ]
  },
  {
   "cell_type": "code",
   "execution_count": null,
   "id": "dff9c869-db4e-4996-b1e8-c997b97c1ba7",
   "metadata": {},
   "outputs": [],
   "source": [
    "adata_li = adata_li[adata_li.obs['qc_all_3_criteria']=='Y']"
   ]
  },
  {
   "cell_type": "code",
   "execution_count": null,
   "id": "f82a6295-3db5-4bb7-b024-ed4316b86dcf",
   "metadata": {},
   "outputs": [],
   "source": [
    "adata_li.obs['sample'] = adata_li.obs['tissue']\n",
    "adata_li.obs['condition'] = adata_li.obs['genotype']"
   ]
  },
  {
   "cell_type": "code",
   "execution_count": null,
   "id": "c7510c93-8127-4919-bc6e-55a280d322df",
   "metadata": {},
   "outputs": [],
   "source": [
    "adata_li.obs['genotype'] = adata_li.obs['genotype'].cat.set_categories(\n",
    "    ['TREM2_KO', 'wild type', 'WT'])\n",
    "\n",
    "indices = adata_li.obs.index[adata_li.obs['genotype'].isin(\n",
    "    ['wild type'])].to_list()\n",
    "adata_li.obs.loc[indices,'genotype'] = 'WT'"
   ]
  },
  {
   "cell_type": "code",
   "execution_count": null,
   "id": "c511bbb7-a7a2-46b8-97e0-a71a6709d27c",
   "metadata": {},
   "outputs": [],
   "source": [
    "indices = adata_li.obs.index[adata_li.obs['run'].isin(\n",
    "    ['1'])].to_list()\n",
    "adata_li.obs.loc[indices,'batch'] = 'batch15'\n",
    "\n",
    "indices = adata_li.obs.index[adata_li.obs['run'].isin(\n",
    "    ['2'])].to_list()\n",
    "adata_li.obs.loc[indices,'batch'] = 'batch16'"
   ]
  },
  {
   "cell_type": "code",
   "execution_count": null,
   "id": "a956cb46-92e7-48d1-ab94-8a868e9c8cce",
   "metadata": {},
   "outputs": [],
   "source": [
    "adata_li.var['mt'] = adata_li.var_names.str.startswith('mt-')  # annotate the group of mitochondrial genes as 'mt'\n",
    "sc.pp.calculate_qc_metrics(adata_li, qc_vars=['mt'], percent_top=None, log1p=False, inplace=True)\n",
    "sc.pl.violin(adata_li, ['n_genes_by_counts', 'total_counts', 'pct_counts_mt'],\n",
    "             jitter=0.4, multi_panel=True)"
   ]
  },
  {
   "cell_type": "code",
   "execution_count": null,
   "id": "2d988690-b17f-4542-ae94-f1d059c07f76",
   "metadata": {},
   "outputs": [],
   "source": [
    "sc.pl.scatter(adata_li, x='total_counts', y='pct_counts_mt')\n",
    "sc.pl.scatter(adata_li, x='total_counts', y='n_genes_by_counts')\n",
    "\n",
    "#Cell filtering is commented out because the original publication annotated what cells were used and there is \n",
    "#little to no risk of doublets because the cells were sorted to have only one cell per well of a 384 well plate\n",
    "\n",
    "#adata_li = adata_li[adata_li.obs.n_genes_by_counts < 2500, :]\n",
    "#adata_li = adata_li[adata_li.obs.pct_counts_mt < 2.5, :]\n",
    "#adata_li = adata_li[adata_li.obs.total_counts < 8000, :]"
   ]
  },
  {
   "cell_type": "markdown",
   "id": "6bf1f95b-6cb7-42d6-bf1b-764d1dc70909",
   "metadata": {
    "jp-MarkdownHeadingCollapsed": true
   },
   "source": [
    "# Initial QC and filtering for Keren-Shaul et al. data"
   ]
  },
  {
   "cell_type": "code",
   "execution_count": null,
   "id": "0b2b64ae-4aac-45de-a1e1-75e64bc76d34",
   "metadata": {},
   "outputs": [],
   "source": [
    "adata_ker.obs['condition'] = adata_ker.obs['Mouse_ID']"
   ]
  },
  {
   "cell_type": "code",
   "execution_count": null,
   "id": "478ae828-bb6b-40fb-b6cf-56cab067f56d",
   "metadata": {},
   "outputs": [],
   "source": [
    "adata_ker.obs['genotype'] = adata_ker.obs['Mouse_ID']\n",
    "\n",
    "adata_ker.obs['genotype'] = adata_ker.obs['genotype'].cat.set_categories(\n",
    "    ['5XFAD', 'C57BL/6', 'SOD1', 'Trem2KO', 'Trem2KO_5XFAD', 'WT'])\n",
    "\n",
    "indices = adata_ker.obs.index[adata_ker.obs['genotype'].isin(\n",
    "    ['C57BL/6'])].to_list()\n",
    "adata_ker.obs.loc[indices,'genotype'] = 'WT'"
   ]
  },
  {
   "cell_type": "code",
   "execution_count": null,
   "id": "0002ea8e-46e1-43e9-80dc-b6603a2391f1",
   "metadata": {},
   "outputs": [],
   "source": [
    "metadata_ker = adata_ker.obs['Batch_desc'].to_list()\n",
    "age_ker = [re.sub(r'old_','',x) for x in metadata_ker]\n",
    "age_ker = [re.sub(r'young_','',x) for x in age_ker]\n",
    "age_ker = [re.sub(r'ALS_mouse._?','',x) for x in age_ker]\n",
    "age_ker = [re.sub(r'ALS_control._?','',x) for x in age_ker]\n",
    "age_ker = [re.sub(r' .*','',x) for x in age_ker]\n",
    "age_ker = [re.sub(r'_.*','',x) for x in age_ker]\n",
    "age_ker = [re.sub('Trem2','unknown',x) for x in age_ker]\n",
    "age_ker = [re.sub('7w','P196',x) for x in age_ker]\n",
    "age_ker = [re.sub('..1m','P28',x) for x in age_ker]\n",
    "age_ker = [re.sub('..3m','P84',x) for x in age_ker]\n",
    "age_ker = [re.sub('..6m','P168',x) for x in age_ker]\n",
    "age_ker = [re.sub('..8m','P224',x) for x in age_ker]\n",
    "age_ker = [re.sub('..9m','P252',x) for x in age_ker]\n",
    "age_ker = [re.sub('20m','P560',x) for x in age_ker]\n",
    "age_ker = [re.sub('d135','P135',x) for x in age_ker]\n",
    "age_ker = [re.sub('d80','P80',x) for x in age_ker]\n",
    "#age_ker = np.array(age_ker)\n",
    "#print(np.unique(metadata_ker))\n",
    "#print(np.unique(age_ker))\n",
    "adata_ker.obs['age'] = age_ker"
   ]
  },
  {
   "cell_type": "code",
   "execution_count": null,
   "id": "a7c6fc32-7934-4f9d-a4d4-7600467fdcb0",
   "metadata": {},
   "outputs": [],
   "source": [
    "indices = adata_ker.obs.index[adata_ker.obs['Seq_batch_ID'].isin(\n",
    "    ['SB79', 'SB84', 'SB90', 'SB93', 'SB100', 'SB121', 'SB126'])].to_list()\n",
    "adata_ker.obs.loc[indices,'batch'] = 'batch17'\n",
    "\n",
    "indices = adata_ker.obs.index[adata_ker.obs['Seq_batch_ID'].isin(\n",
    "    ['SB94'])].to_list()\n",
    "adata_ker.obs.loc[indices,'batch'] = 'batch18'"
   ]
  },
  {
   "cell_type": "code",
   "execution_count": null,
   "id": "688af230-4990-4aba-a38a-8b1e67e2f798",
   "metadata": {},
   "outputs": [],
   "source": [
    "adata_ker.obs['sample'] = adata_ker.obs['Batch_desc']"
   ]
  },
  {
   "cell_type": "code",
   "execution_count": null,
   "id": "08b91ceb-e3e0-476e-967b-4b99c54dd86e",
   "metadata": {},
   "outputs": [],
   "source": [
    "adata_ker.var['mt'] = adata_ker.var_names.str.startswith('mt-')  # annotate the group of mitochondrial genes as 'mt'\n",
    "sc.pp.calculate_qc_metrics(adata_ker, qc_vars=['mt'], percent_top=None, log1p=False, inplace=True)\n",
    "sc.pl.violin(adata_ker, ['n_genes_by_counts', 'total_counts', 'pct_counts_mt'],\n",
    "             jitter=0.4, multi_panel=True)\n",
    "\n",
    "adata_ker.var['ERCC'] = adata_ker.var_names.str.startswith('ERCC')\n",
    "sc.pp.calculate_qc_metrics(adata_ker, qc_vars=['ERCC'], percent_top=None, log1p=False, inplace=True)\n",
    "sc.pl.violin(adata_ker, ['n_genes_by_counts', 'total_counts', 'pct_counts_ERCC'],\n",
    "             jitter=0.4, multi_panel=True)"
   ]
  },
  {
   "cell_type": "code",
   "execution_count": null,
   "id": "70ea1849-0fbd-4685-a8ea-8773f81fa1b9",
   "metadata": {},
   "outputs": [],
   "source": [
    "# Because none of the other datasets used ERCC spike-in I tried to set the criteria and ~1 standard deviation from the mean:\n",
    "print('mean: ',adata_ker.obs['pct_counts_ERCC'].mean())\n",
    "print('std: ',adata_ker.obs['pct_counts_ERCC'].std())"
   ]
  },
  {
   "cell_type": "code",
   "execution_count": null,
   "id": "691b69b7-9963-4e20-a823-454570d3b608",
   "metadata": {},
   "outputs": [],
   "source": [
    "sc.pl.scatter(adata_ker, x='total_counts', y='pct_counts_mt')\n",
    "sc.pl.scatter(adata_ker, x='total_counts', y='pct_counts_ERCC')\n",
    "sc.pl.scatter(adata_ker, x='total_counts', y='n_genes_by_counts')\n",
    "\n",
    "#Because there are no counts annotated for the mitochondrial genes detected, I will not use percent mitochondrial genes as a filter.\n",
    "\n",
    "adata_ker = adata_ker[adata_ker.obs.n_genes_by_counts < 2000, :]\n",
    "adata_ker = adata_ker[adata_ker.obs.pct_counts_ERCC < 45, :]\n",
    "adata_ker = adata_ker[adata_ker.obs.total_counts < 8000, :]"
   ]
  },
  {
   "cell_type": "markdown",
   "id": "adaa52f4-80be-4202-817e-d0b805557bf8",
   "metadata": {
    "jp-MarkdownHeadingCollapsed": true
   },
   "source": [
    "# Initial QC and filtering for Escoubas et al. data"
   ]
  },
  {
   "cell_type": "code",
   "execution_count": null,
   "id": "be68ad76-471c-4c7a-b269-2b97e7cfa817",
   "metadata": {},
   "outputs": [],
   "source": [
    "adata_esc.obs['batch'] = 'batch19'"
   ]
  },
  {
   "cell_type": "code",
   "execution_count": null,
   "id": "d58eda75-1f61-4d48-ac0a-2ccc84d94e51",
   "metadata": {},
   "outputs": [],
   "source": [
    "adata_esc.obs['genotype'] = 'WT'"
   ]
  },
  {
   "cell_type": "code",
   "execution_count": null,
   "id": "e822dcb7-c05f-4e47-b212-15af5d2ba838",
   "metadata": {},
   "outputs": [],
   "source": [
    "adata_esc.var['mt'] = adata_esc.var_names.str.startswith('mt-')  # annotate the group of mitochondrial genes as 'mt'\n",
    "sc.pp.calculate_qc_metrics(adata_esc, qc_vars=['mt'], percent_top=None, log1p=False, inplace=True)\n",
    "sc.pl.violin(adata_esc, ['n_genes_by_counts', 'total_counts', 'pct_counts_mt'],\n",
    "             jitter=0.4, multi_panel=True)"
   ]
  },
  {
   "cell_type": "code",
   "execution_count": null,
   "id": "9bae7ba5-617a-4409-9bd3-be81aff54fc3",
   "metadata": {},
   "outputs": [],
   "source": [
    "sc.pl.scatter(adata_esc, x='total_counts', y='pct_counts_mt')\n",
    "sc.pl.scatter(adata_esc, x='total_counts', y='n_genes_by_counts')\n",
    "\n",
    "adata_esc = adata_esc[adata_esc.obs.n_genes_by_counts < 6000, :]\n",
    "adata_esc = adata_esc[adata_esc.obs.pct_counts_mt < 7.5, :]\n",
    "adata_esc = adata_esc[adata_esc.obs.total_counts < 35000, :]"
   ]
  },
  {
   "cell_type": "markdown",
   "id": "5727b74d-2754-429b-949b-b2a7a2a18632",
   "metadata": {
    "jp-MarkdownHeadingCollapsed": true
   },
   "source": [
    "# Initial QC and filtering for Zhou et al. data"
   ]
  },
  {
   "cell_type": "code",
   "execution_count": null,
   "id": "0486b3bc-78ec-45b2-a334-fd1710b51ff4",
   "metadata": {},
   "outputs": [],
   "source": [
    "genotype_info = adata_zho.obs['sample'].to_list()\n",
    "genotype_info = [re.sub('Trem2_KO','Trem2KO',x) for x in genotype_info]\n",
    "genotype_info = [re.sub('WT_5XFAD','5XFAD',x) for x in genotype_info]\n",
    "genotype_info = [re.sub(r'Trem2KO_5XFAD.*','Trem2KO_5XFAD',x) for x in genotype_info]\n",
    "genotype_info = [re.sub(r'5XFAD.*','5XFAD',x) for x in genotype_info]\n",
    "genotype_info = [re.sub('Trem2KO_Hip','Trem2KO',x) for x in genotype_info]\n",
    "genotype_info = [re.sub('Trem2KO_Cor','Trem2KO',x) for x in genotype_info]\n",
    "genotype_info = [re.sub('Trem2KO_1','Trem2KO',x) for x in genotype_info]\n",
    "genotype_info = [re.sub('Trem2KO_2','Trem2KO',x) for x in genotype_info]\n",
    "genotype_info = [re.sub('Trem2KO_3','Trem2KO',x) for x in genotype_info]\n",
    "genotype_info = [re.sub(r'WT.*','WT',x) for x in genotype_info]\n",
    "\n",
    "adata_zho.obs['genotype'] = genotype_info"
   ]
  },
  {
   "cell_type": "code",
   "execution_count": null,
   "id": "7fe0bce2-9e30-4032-ab9e-42f6c3cbe109",
   "metadata": {},
   "outputs": [],
   "source": [
    "condition_info = adata_zho.obs['sample'].to_list()\n",
    "condition_info = [re.sub(r'_.$','',x) for x in condition_info]\n",
    "condition_info = [re.sub('Trem2_KO','Trem2KO',x) for x in condition_info]\n",
    "\n",
    "adata_zho.obs['condition'] = condition_info"
   ]
  },
  {
   "cell_type": "markdown",
   "id": "e696bb9b-e7bc-4454-8503-578e7ce8063d",
   "metadata": {},
   "source": [
    "### Clustering data to isolate microglia \n",
    "#### Identify putative batch effects in microglia"
   ]
  },
  {
   "cell_type": "code",
   "execution_count": null,
   "id": "ab8810a9-02eb-4710-88ec-2f1a8f627e70",
   "metadata": {},
   "outputs": [],
   "source": [
    "test = adata_zho.copy()\n",
    "\n",
    "test1 = test[test.obs['age']=='P196']\n",
    "test2 = test[test.obs['age']=='P420']"
   ]
  },
  {
   "cell_type": "code",
   "execution_count": null,
   "id": "39ce1845-ed25-4189-bad7-8d55011deaf9",
   "metadata": {},
   "outputs": [],
   "source": [
    "#test = test1\n",
    "#test = test2\n",
    "test.var['mt'] = test.var_names.str.startswith('mt-')  # annotate the group of mitochondrial genes as 'mt'\n",
    "sc.pp.calculate_qc_metrics(test, qc_vars=['mt'], percent_top=None, log1p=False, inplace=True)\n",
    "sc.pl.violin(test, ['n_genes_by_counts', 'total_counts', 'pct_counts_mt'],\n",
    "             jitter=0.4, multi_panel=True)"
   ]
  },
  {
   "cell_type": "code",
   "execution_count": null,
   "id": "c2ceee24-df25-4b30-8d26-43d267ec8eb6",
   "metadata": {},
   "outputs": [],
   "source": [
    "sc.pl.scatter(test, x='total_counts', y='pct_counts_mt')\n",
    "sc.pl.scatter(test, x='total_counts', y='n_genes_by_counts')\n",
    "\n",
    "test = test[test.obs.n_genes_by_counts < 5000, :]\n",
    "test = test[test.obs.pct_counts_mt < 7.5, :]\n",
    "test = test[test.obs.total_counts < 15000, :]"
   ]
  },
  {
   "cell_type": "code",
   "execution_count": null,
   "id": "4bc7f985-772c-4300-96d5-04151c1effbd",
   "metadata": {},
   "outputs": [],
   "source": [
    "test.layers['counts'] = test.X\n",
    "\n",
    "test.raw = test\n",
    "\n",
    "sc.pp.normalize_total(test, target_sum=1e4)\n",
    "sc.pp.log1p(test)"
   ]
  },
  {
   "cell_type": "code",
   "execution_count": null,
   "id": "b3f4ffd9-7481-4eee-97d2-35fccbd0e0f1",
   "metadata": {},
   "outputs": [],
   "source": [
    "sc.pp.highly_variable_genes(test)\n",
    "sc.pl.highly_variable_genes(test)\n",
    "test = test[:, test.var.highly_variable]\n",
    "sc.pp.scale(test)\n",
    "\n",
    "sc.tl.pca(test)\n",
    "sc.pl.pca(test, color='sample')\n",
    "\n",
    "sc.pp.neighbors(test)\n",
    "sc.tl.umap(test)\n",
    "sc.pl.umap(test, color=['sample'])"
   ]
  },
  {
   "cell_type": "code",
   "execution_count": null,
   "id": "4bb2612c-d37a-4b2d-9ae6-9197407bce28",
   "metadata": {},
   "outputs": [],
   "source": [
    "sc.pl.umap(test, color=['Itgam','P2ry12','Cx3cr1','Tmem119', 'Hexb'], color_map = 'Purples')"
   ]
  },
  {
   "cell_type": "code",
   "execution_count": null,
   "id": "b9ce87bd-0e63-499e-84de-ef1ce78b407b",
   "metadata": {},
   "outputs": [],
   "source": [
    "import leidenalg\n",
    "sc.tl.leiden(test, key_added=\"leiden_res0_1\", resolution=0.1)\n",
    "sc.tl.leiden(test, key_added=\"leiden_res0_25\", resolution=0.25)\n",
    "sc.tl.leiden(test, key_added=\"leiden_res0_5\", resolution=0.5)\n",
    "sc.tl.leiden(test, key_added=\"leiden_res1\", resolution=1.0)\n",
    "sc.pl.umap(test, color = [\"leiden_res0_1\", \"leiden_res0_25\", \"leiden_res0_5\", \"leiden_res1\"], legend_loc = 'on data')"
   ]
  },
  {
   "cell_type": "code",
   "execution_count": null,
   "id": "771b8edc-c962-4099-98f9-f0bcdc75d1ea",
   "metadata": {},
   "outputs": [],
   "source": [
    "sc.pl.umap(test, color = [\"leiden_res0_25\", 'Hexb','P2ry12'], groups = ['8','21'], palette = 'Accent')"
   ]
  },
  {
   "cell_type": "code",
   "execution_count": null,
   "id": "774d1ee2-50b4-4a86-8311-7fc0c3f71f10",
   "metadata": {},
   "outputs": [],
   "source": [
    "test_microglia = test[test.obs['leiden_res0_25'].isin(['8','21'])]"
   ]
  },
  {
   "cell_type": "code",
   "execution_count": null,
   "id": "499d9a4d-fa8e-4ec3-b063-a4c4245751f5",
   "metadata": {},
   "outputs": [],
   "source": [
    "micro_indices = test.obs.index[test.obs['leiden_res0_25'].isin(\n",
    "    ['8','21'])].to_list()\n",
    "test_micro = adata_zho[adata_zho.obs.index.isin(micro_indices)]"
   ]
  },
  {
   "cell_type": "code",
   "execution_count": null,
   "id": "8df0ee2a-13e5-4483-a17d-01fe2cc16721",
   "metadata": {},
   "outputs": [],
   "source": [
    "print(np.sum(test_microglia.X))\n",
    "print(np.sum(test_micro.X))\n",
    "\n",
    "test_microglia.var['mt'] = test_microglia.var_names.str.startswith('mt-')  # annotate the group of mitochondrial genes as 'mt'\n",
    "sc.pp.calculate_qc_metrics(test_microglia, qc_vars=['mt'], percent_top=None, log1p=False, inplace=True)\n",
    "sc.pl.violin(test_microglia, ['n_genes_by_counts', 'total_counts', 'pct_counts_mt'],\n",
    "             jitter=0.4, multi_panel=True)\n",
    "\n",
    "test_micro.var['mt'] = test_micro.var_names.str.startswith('mt-')  # annotate the group of mitochondrial genes as 'mt'\n",
    "sc.pp.calculate_qc_metrics(test_micro, qc_vars=['mt'], percent_top=None, log1p=False, inplace=True)\n",
    "sc.pl.violin(test_micro, ['n_genes_by_counts', 'total_counts', 'pct_counts_mt'],\n",
    "             jitter=0.4, multi_panel=True)"
   ]
  },
  {
   "cell_type": "code",
   "execution_count": null,
   "id": "b8b4f2a7-982e-4e99-a78b-5e13153e6602",
   "metadata": {},
   "outputs": [],
   "source": [
    "sc.pl.scatter(test_micro, x='total_counts', y='pct_counts_mt')\n",
    "sc.pl.scatter(test_micro, x='total_counts', y='n_genes_by_counts')\n",
    "\n",
    "test_micro = test_micro[test_micro.obs.n_genes_by_counts < 2000, :]\n",
    "test_micro = test_micro[test_micro.obs.pct_counts_mt < 1.5, :]\n",
    "test_micro = test_micro[test_micro.obs.total_counts < 2500, :]"
   ]
  },
  {
   "cell_type": "code",
   "execution_count": null,
   "id": "e74fff7a-58d1-496c-884a-ece13793754b",
   "metadata": {},
   "outputs": [],
   "source": [
    "test_micro.layers['counts'] = test_micro.X\n",
    "\n",
    "test_micro.raw = test_micro\n",
    "\n",
    "sc.pp.normalize_total(test_micro, target_sum=1e4)\n",
    "sc.pp.log1p(test_micro)"
   ]
  },
  {
   "cell_type": "code",
   "execution_count": null,
   "id": "9dc83679-bda7-4b18-afe6-dc6bc5390290",
   "metadata": {},
   "outputs": [],
   "source": [
    "sc.pp.highly_variable_genes(test_micro)\n",
    "sc.pl.highly_variable_genes(test_micro)\n",
    "test_micro = test_micro[:, test_micro.var.highly_variable]\n",
    "sc.pp.scale(test_micro)\n",
    "\n",
    "sc.tl.pca(test_micro)\n",
    "sc.pl.pca(test_micro, color='sample')\n",
    "\n",
    "sc.pp.neighbors(test_micro)\n",
    "sc.tl.umap(test_micro)\n",
    "sc.pl.umap(test_micro, color=['sample'])"
   ]
  },
  {
   "cell_type": "code",
   "execution_count": null,
   "id": "111ac1c8-c2cf-43d1-9ede-2f3356788cf1",
   "metadata": {},
   "outputs": [],
   "source": [
    "list_samples = test_micro.obs['sample'].unique().to_list()\n",
    "\n",
    "palette = {}\n",
    "\n",
    "for x in test_micro.obs['sample'].unique().to_list():\n",
    "    palette[x] = 'black'\n",
    "\n",
    "for x in list_samples:\n",
    "    sample = test_micro[test_micro.obs['sample'].isin([x])]\n",
    "    sc.pl.umap(test_micro, color = ['sample'], groups = [x], palette = palette)"
   ]
  },
  {
   "cell_type": "markdown",
   "id": "5739fb45-8416-4c9d-a863-459a79cfe547",
   "metadata": {},
   "source": [
    "#### From this analysis, I think that there are likely two batches in this dataset separated by the naming convention for each sample and age of the sample.\n",
    "#### Batch 1 : Genotype_Sample#\n",
    "#### Batch 2 : Genotype_Tissue Type"
   ]
  },
  {
   "cell_type": "markdown",
   "id": "ad90b38f-e442-49ee-9631-8d0026fd5909",
   "metadata": {},
   "source": [
    "## Subset raw data by cell indices to just get microglia "
   ]
  },
  {
   "cell_type": "code",
   "execution_count": null,
   "id": "86c0509e-b775-4116-91ee-d0f6fbe88b56",
   "metadata": {},
   "outputs": [],
   "source": [
    "micro_indices = test.obs.index[test.obs['leiden_res0_25'].isin(\n",
    "    ['8','21'])].to_list()\n",
    "micro_zho = adata_zho[adata_zho.obs.index.isin(micro_indices)]"
   ]
  },
  {
   "cell_type": "code",
   "execution_count": null,
   "id": "da5573bb-422a-439e-b10e-9281d2b9323c",
   "metadata": {},
   "outputs": [],
   "source": [
    "micro_zho.obs['batch'] = np.nan\n",
    "\n",
    "indices = micro_zho.obs.index[micro_zho.obs['age'].isin(['P196'])].to_list()\n",
    "micro_zho.obs.loc[indices,'batch'] = 'batch20'\n",
    "\n",
    "indices = micro_zho.obs.index[micro_zho.obs['age'].isin(['P420'])].to_list()\n",
    "micro_zho.obs.loc[indices,'batch'] = 'batch21'"
   ]
  },
  {
   "cell_type": "code",
   "execution_count": null,
   "id": "dfc9f896-efb4-473d-850d-f33aa1ad8bdf",
   "metadata": {},
   "outputs": [],
   "source": [
    "micro_zho.var['mt'] = micro_zho.var_names.str.startswith('mt-')  # annotate the group of mitochondrial genes as 'mt'\n",
    "sc.pp.calculate_qc_metrics(micro_zho, qc_vars=['mt'], percent_top=None, log1p=False, inplace=True)\n",
    "sc.pl.violin(micro_zho, ['n_genes_by_counts', 'total_counts', 'pct_counts_mt'],\n",
    "             jitter=0.4, multi_panel=True)"
   ]
  },
  {
   "cell_type": "code",
   "execution_count": null,
   "id": "3b351687-a0db-4c12-89df-51cb453be460",
   "metadata": {},
   "outputs": [],
   "source": [
    "sc.pl.scatter(micro_zho, x='total_counts', y='pct_counts_mt')\n",
    "sc.pl.scatter(micro_zho, x='total_counts', y='n_genes_by_counts')\n",
    "\n",
    "micro_zho = micro_zho[micro_zho.obs.n_genes_by_counts < 2000, :]\n",
    "micro_zho = micro_zho[micro_zho.obs.pct_counts_mt < 1.5, :]\n",
    "micro_zho = micro_zho[micro_zho.obs.total_counts < 2500, :]"
   ]
  },
  {
   "cell_type": "markdown",
   "id": "328ecb1b-b830-43ea-9325-4335b373120d",
   "metadata": {
    "jp-MarkdownHeadingCollapsed": true
   },
   "source": [
    "# Re-concatenate datasets after annotation and initial filtering"
   ]
  },
  {
   "cell_type": "code",
   "execution_count": null,
   "id": "1d47a351-6391-4d5b-a6e5-6b9a3d3e45e2",
   "metadata": {},
   "outputs": [],
   "source": [
    "adata_concat_filter = anndata.concat([micro_zho, adata_esc, adata_ker, adata_li, adata_ham, adata_hev])"
   ]
  },
  {
   "cell_type": "markdown",
   "id": "d5175e40-10d4-4a40-8d33-116e9692bdcb",
   "metadata": {
    "jp-MarkdownHeadingCollapsed": true
   },
   "source": [
    "# Remove variable names from the ERCC spike-in\n",
    "\n",
    "## Datasets that have counts for ERCC spike in:\n",
    "#### Keren-Shaul et al. \n",
    "#### Li et al. "
   ]
  },
  {
   "cell_type": "code",
   "execution_count": null,
   "id": "43d63988-1309-4c2a-8b8c-99598f093f58",
   "metadata": {},
   "outputs": [],
   "source": [
    "adata_concat_filter.var['ERCC'] = adata_concat_filter.var_names.str.startswith('ERCC')  # annotate the group of mitochondrial genes as 'mt'\n",
    "sc.pp.calculate_qc_metrics(adata_concat_filter, qc_vars=['ERCC'], percent_top=None, log1p=False, inplace=True)\n",
    "sc.pl.violin(adata_concat_filter, ['n_genes_by_counts', 'total_counts', 'pct_counts_ERCC'],\n",
    "             jitter=0.4, multi_panel=True)"
   ]
  },
  {
   "cell_type": "code",
   "execution_count": null,
   "id": "3fcd3ca0-cf61-45a8-8436-e3251a02b1d0",
   "metadata": {},
   "outputs": [],
   "source": [
    "adata_concat_filter = adata_concat_filter[:,adata_concat_filter.var['ERCC']==False]"
   ]
  },
  {
   "cell_type": "markdown",
   "id": "28241fc4-58e3-4fa9-8b5d-6d3d00c21827",
   "metadata": {
    "jp-MarkdownHeadingCollapsed": true
   },
   "source": [
    "# Final step: Identify functional clusters relevant for this experiment\n",
    "#### I will separate cells by dataset and cluster.\n",
    "#### Then I will use published marker genes to identify clusters of interest.\n",
    "#### List of functional clusters: DAMs, PAMs, Type-I interferon responsive clusters\n",
    "#### Thankfully for Escoubas et al. this was already provided for by the authors.\n",
    "#### Clusters of interest summary: Escoubas8, Keren-Shaul2, Zhou1, Li2, and Ramirez1"
   ]
  },
  {
   "cell_type": "code",
   "execution_count": null,
   "id": "1ab374df-9add-4d65-b340-8f3fbedb502c",
   "metadata": {},
   "outputs": [],
   "source": [
    "adata_concat_filter.var['ERCC'] = adata_concat_filter.var_names.str.startswith('ERCC')  # annotate the group of mitochondrial genes as 'mt'\n",
    "sc.pp.calculate_qc_metrics(adata_concat_filter, qc_vars=['ERCC'], percent_top=None, log1p=False, inplace=True)\n",
    "sc.pl.violin(adata_concat_filter, ['n_genes_by_counts', 'total_counts', 'pct_counts_ERCC'],\n",
    "             jitter=0.4, multi_panel=True)"
   ]
  },
  {
   "cell_type": "code",
   "execution_count": null,
   "id": "10d92a6c-907f-4ddd-b158-eaed22a76ddc",
   "metadata": {},
   "outputs": [],
   "source": [
    "escoubas = adata_concat_filter[adata_concat_filter.obs['dataset']=='Escoubasetal']\n",
    "keren_shaul = adata_concat_filter[adata_concat_filter.obs['dataset']=='Keren-Shauletal']\n",
    "zhou = adata_concat_filter[adata_concat_filter.obs['dataset']=='Zhouetal']\n",
    "li = adata_concat_filter[adata_concat_filter.obs['dataset']=='Lietal']\n",
    "hammond = adata_concat_filter[adata_concat_filter.obs['dataset']=='Hammondetal']\n",
    "ramirez = adata_concat_filter[adata_concat_filter.obs['dataset']=='Ramirezetal']"
   ]
  },
  {
   "cell_type": "code",
   "execution_count": null,
   "id": "6f20369d-0534-4593-964c-cb5df4a90a9e",
   "metadata": {},
   "outputs": [],
   "source": [
    "# Here the goal was to take the cluster data that Escoubas et al. included and make a new column that will be used by all datasets to annotate\n",
    "# clusters of interest.\n",
    "escoubas_cluster_ID = escoubas.obs['cluster'].unique().tolist()\n",
    "escoubas_cluster_ID\n",
    "\n",
    "escoubas.obs['functional_cluster'] = np.nan\n",
    "for x in escoubas_cluster_ID:\n",
    "    indices = escoubas.obs.index[escoubas.obs['cluster'].isin([x])].to_list()\n",
    "    escoubas.obs.loc[indices,'functional_cluster'] = 'Escoubas'+str(x)[0]\n",
    "\n",
    "escoubas.obs"
   ]
  },
  {
   "cell_type": "code",
   "execution_count": null,
   "id": "f9dc31a5-a2f9-44ec-bb70-db40a7582457",
   "metadata": {},
   "outputs": [],
   "source": [
    "# Hammond et al. will function mostly as a developmental atlas, therefore I will set the functional clusters as unknown.\n",
    "hammond.obs['functional_cluster'] = 'unknown'"
   ]
  },
  {
   "cell_type": "code",
   "execution_count": null,
   "id": "7d34c38b-10cc-4ce0-a870-5184ba6fcfab",
   "metadata": {},
   "outputs": [],
   "source": [
    "#### Next I will cluster the Hevin data\n",
    "hevin = ramirez.copy()\n",
    "\n",
    "hevin.var['mt'] = hevin.var_names.str.startswith('mt-')  # annotate the group of mitochondrial genes as 'mt'\n",
    "sc.pp.calculate_qc_metrics(hevin, qc_vars=['mt'], percent_top=None, log1p=False, inplace=True)\n",
    "sc.pl.violin(hevin, ['n_genes_by_counts', 'total_counts', 'pct_counts_mt'],\n",
    "             jitter=0.4, multi_panel=True)\n",
    "\n",
    "sc.pl.scatter(hevin, x='total_counts', y='pct_counts_mt')\n",
    "sc.pl.scatter(hevin, x='total_counts', y='n_genes_by_counts')\n",
    "\n",
    "hevin.layers['counts'] = hevin.X\n",
    "\n",
    "hevin.raw = hevin\n",
    "\n",
    "sc.pp.normalize_total(hevin, target_sum=1e4)\n",
    "sc.pp.log1p(hevin)\n",
    "\n",
    "sc.pp.highly_variable_genes(hevin)\n",
    "sc.pl.highly_variable_genes(hevin)\n",
    "hevin = hevin[:, hevin.var.highly_variable]\n",
    "sc.pp.scale(hevin)\n",
    "\n",
    "sc.tl.pca(hevin)\n",
    "sc.pl.pca(hevin, color='sample')\n",
    "\n",
    "sc.pp.neighbors(hevin)\n",
    "sc.tl.umap(hevin)\n",
    "sc.pl.umap(hevin, color=['sample'])"
   ]
  },
  {
   "cell_type": "code",
   "execution_count": null,
   "id": "fc48a798-6f83-4f22-a7a6-a8817452db90",
   "metadata": {},
   "outputs": [],
   "source": [
    "import leidenalg\n",
    "sc.tl.leiden(hevin, key_added=\"leiden_res0_05\", resolution=0.05)\n",
    "sc.tl.leiden(hevin, key_added=\"leiden_res0_1\", resolution=0.1)\n",
    "sc.tl.leiden(hevin, key_added=\"leiden_res0_25\", resolution=0.25)\n",
    "sc.tl.leiden(hevin, key_added=\"leiden_res0_5\", resolution=0.5)\n",
    "sc.tl.leiden(hevin, key_added=\"leiden_res1\", resolution=1.0)\n",
    "sc.pl.umap(hevin, color = [\"leiden_res0_05\",\"leiden_res0_1\", \"leiden_res0_25\", \"leiden_res0_5\", \"leiden_res1\"], legend_loc = 'on data')\n",
    "sc.pl.umap(hevin, color = ['Apoe'], color_map = 'Purples')"
   ]
  },
  {
   "cell_type": "code",
   "execution_count": null,
   "id": "2a8e8a2a-6dc1-40d6-aa66-bd16aa34d476",
   "metadata": {},
   "outputs": [],
   "source": [
    "hevin_cluster_ID = hevin.obs['leiden_res0_25'].unique().tolist()\n",
    "hevin_cluster_ID\n",
    "\n",
    "ramirez.obs['functional_cluster'] = np.nan\n",
    "for x in hevin_cluster_ID:\n",
    "    indices = hevin.obs.index[hevin.obs['leiden_res0_25'].isin([x])].to_list()\n",
    "    ramirez.obs.loc[indices,'functional_cluster'] = 'Ramirez'+str(x)\n",
    "\n",
    "ramirez.obs"
   ]
  },
  {
   "cell_type": "code",
   "execution_count": null,
   "id": "f75231b0-b06b-40d1-b2ef-02753e6aa26d",
   "metadata": {},
   "outputs": [],
   "source": [
    "# Next will be to cluster Keren-Shaul et al. and label DAMs\n",
    "dams_keren = keren_shaul.copy()\n",
    "\n",
    "# I will use scanpy combat to account for the slight batch effect in these data prior to clustering.\n",
    "dams_keren_combat = dams_keren.copy()\n",
    "\n",
    "dams_keren_combat.var['mt'] = dams_keren_combat.var_names.str.startswith('mt-')  # annotate the group of mitochondrial genes as 'mt'\n",
    "sc.pp.calculate_qc_metrics(dams_keren_combat, qc_vars=['mt'], percent_top=None, log1p=False, inplace=True)\n",
    "sc.pl.violin(dams_keren_combat, ['n_genes_by_counts', 'total_counts', 'pct_counts_mt'],\n",
    "             jitter=0.4, multi_panel=True)\n",
    "\n",
    "sc.pl.scatter(dams_keren_combat, x='total_counts', y='pct_counts_mt')\n",
    "sc.pl.scatter(dams_keren_combat, x='total_counts', y='n_genes_by_counts')\n",
    "\n",
    "dams_keren_combat.layers['counts'] = dams_keren_combat.X\n",
    "\n",
    "dams_keren_combat.raw = dams_keren_combat\n",
    "\n",
    "sc.pp.normalize_total(dams_keren_combat, target_sum=1e4)\n",
    "sc.pp.log1p(dams_keren_combat)\n",
    "\n",
    "sc.pp.highly_variable_genes(dams_keren_combat)\n",
    "sc.pl.highly_variable_genes(dams_keren_combat)\n",
    "dams_keren_combat = dams_keren_combat[:, dams_keren_combat.var.highly_variable]\n",
    "sc.pp.scale(dams_keren_combat)\n",
    "\n",
    "sc.pp.combat(dams_keren_combat, key='batch')\n",
    "\n",
    "sc.tl.pca(dams_keren_combat)\n",
    "sc.pl.pca(dams_keren_combat, color='batch')\n",
    "\n",
    "sc.pp.neighbors(dams_keren_combat)\n",
    "sc.tl.umap(dams_keren_combat)\n",
    "sc.pl.umap(dams_keren_combat, color=['batch'])"
   ]
  },
  {
   "cell_type": "code",
   "execution_count": null,
   "id": "e058d96b-3753-4c77-83bd-ffd8c41c40f1",
   "metadata": {},
   "outputs": [],
   "source": [
    "import leidenalg\n",
    "sc.tl.leiden(dams_keren_combat, key_added=\"leiden_res0_1\", resolution=0.1)\n",
    "sc.tl.leiden(dams_keren_combat, key_added=\"leiden_res0_25\", resolution=0.25)\n",
    "sc.tl.leiden(dams_keren_combat, key_added=\"leiden_res0_5\", resolution=0.5)\n",
    "sc.tl.leiden(dams_keren_combat, key_added=\"leiden_res1\", resolution=1.0)\n",
    "sc.pl.umap(dams_keren_combat, color = [\"leiden_res0_1\", \"leiden_res0_25\", \"leiden_res0_5\", \"leiden_res1\"], legend_loc = 'on data')\n",
    "sc.pl.umap(dams_keren_combat, color = ['Apoe', 'Clec7a'], color_map = 'Purples')"
   ]
  },
  {
   "cell_type": "code",
   "execution_count": null,
   "id": "6ec7fa66-6025-4ace-a754-1cb6dc1ccf18",
   "metadata": {},
   "outputs": [],
   "source": [
    "keren_cluster_ID = dams_keren_combat.obs['leiden_res0_25'].unique().tolist()\n",
    "\n",
    "keren_shaul.obs['functional_cluster'] = np.nan\n",
    "for x in keren_cluster_ID:\n",
    "    indices = dams_keren_combat.obs.index[dams_keren_combat.obs['leiden_res0_25'].isin([x])].to_list()\n",
    "    keren_shaul.obs.loc[indices,'functional_cluster'] = 'Keren-Shaul'+str(x)\n",
    "\n",
    "keren_shaul.obs"
   ]
  },
  {
   "cell_type": "markdown",
   "id": "4f090293-1718-4665-8fbd-8b5fd5f6ba5b",
   "metadata": {},
   "source": [
    "#### Keren-Shaul2 is the DAM cluster. I will keep the current annotation and decide if I need an additional column to group this with the other DAM cluster in the Zhou dataset later. "
   ]
  },
  {
   "cell_type": "code",
   "execution_count": null,
   "id": "e17ee9ce-fd33-4519-bb38-8ff39aa7dc1a",
   "metadata": {},
   "outputs": [],
   "source": [
    "# Next I will cluster Zhou et al. data, but I will only use batch20 because it has significantly more microglia.\n",
    "dams_zhou = zhou.copy()\n",
    "\n",
    "dams_zhou = dams_zhou[dams_zhou.obs['batch']=='batch20']\n",
    "\n",
    "dams_zhou.var['mt'] = dams_zhou.var_names.str.startswith('mt-')  # annotate the group of mitochondrial genes as 'mt'\n",
    "sc.pp.calculate_qc_metrics(dams_zhou, qc_vars=['mt'], percent_top=None, log1p=False, inplace=True)\n",
    "sc.pl.violin(dams_zhou, ['n_genes_by_counts', 'total_counts', 'pct_counts_mt'],\n",
    "             jitter=0.4, multi_panel=True)\n",
    "\n",
    "sc.pl.scatter(dams_zhou, x='total_counts', y='pct_counts_mt')\n",
    "sc.pl.scatter(dams_zhou, x='total_counts', y='n_genes_by_counts')\n",
    "\n",
    "dams_zhou.layers['counts'] = dams_zhou.X\n",
    "\n",
    "dams_zhou.raw = dams_zhou\n",
    "\n",
    "sc.pp.normalize_total(dams_zhou, target_sum=1e4)\n",
    "sc.pp.log1p(dams_zhou)\n",
    "\n",
    "sc.pp.highly_variable_genes(dams_zhou)\n",
    "sc.pl.highly_variable_genes(dams_zhou)\n",
    "dams_zhou = dams_zhou[:, dams_zhou.var.highly_variable]\n",
    "sc.pp.scale(dams_zhou)\n",
    "\n",
    "sc.tl.pca(dams_zhou)\n",
    "sc.pl.pca(dams_zhou, color='sample')\n",
    "\n",
    "sc.pp.neighbors(dams_zhou)\n",
    "sc.tl.umap(dams_zhou)\n",
    "sc.pl.umap(dams_zhou, color=['sample'])"
   ]
  },
  {
   "cell_type": "code",
   "execution_count": null,
   "id": "3e347671-1415-43d7-8a30-894b29e46e06",
   "metadata": {},
   "outputs": [],
   "source": [
    "import leidenalg\n",
    "sc.tl.leiden(dams_zhou, key_added=\"leiden_res0_1\", resolution=0.1)\n",
    "sc.tl.leiden(dams_zhou, key_added=\"leiden_res0_25\", resolution=0.25)\n",
    "sc.tl.leiden(dams_zhou, key_added=\"leiden_res0_5\", resolution=0.5)\n",
    "sc.tl.leiden(dams_zhou, key_added=\"leiden_res1\", resolution=1.0)\n",
    "sc.pl.umap(dams_zhou, color = [\"leiden_res0_1\", \"leiden_res0_25\", \"leiden_res0_5\", \"leiden_res1\"], legend_loc = 'on data')\n",
    "sc.pl.umap(dams_zhou, color = ['Apoe','Clec7a', 'Gpnmb'], color_map = 'Purples')"
   ]
  },
  {
   "cell_type": "code",
   "execution_count": null,
   "id": "f02df1ad-9d98-445c-bbeb-4d814a2c3a7c",
   "metadata": {},
   "outputs": [],
   "source": [
    "zhou_cluster_ID = dams_zhou.obs['leiden_res0_25'].unique().tolist()\n",
    "\n",
    "zhou.obs['functional_cluster'] = np.nan\n",
    "for x in zhou_cluster_ID:\n",
    "    indices = dams_zhou.obs.index[dams_zhou.obs['leiden_res0_25'].isin([x])].to_list()\n",
    "    zhou.obs.loc[indices,'functional_cluster'] = 'Zhou'+str(x)\n",
    "\n",
    "zhou_unknown_cluster_indices = zhou.obs.index[zhou.obs['batch']== 'batch21'].to_list()\n",
    "zhou.obs.loc[zhou_unknown_cluster_indices,'functional_cluster'] = 'unknown'\n",
    "\n",
    "zhou.obs"
   ]
  },
  {
   "cell_type": "markdown",
   "id": "94268f07-27cb-4702-bcf9-5141d2e32843",
   "metadata": {},
   "source": [
    "#### Zhou1 is the DAM cluster. I will keep the current annotation and decide if I need an additional column to group this with the other DAM cluster in the Keren-Shaul dataset later. "
   ]
  },
  {
   "cell_type": "code",
   "execution_count": null,
   "id": "7e668f4a-c2ce-4da4-9310-a22e89079b2e",
   "metadata": {},
   "outputs": [],
   "source": [
    "# Finally, I will cluster Li et al. but I will only use batch15 because it has significantly more cells\n",
    "pams_li = li.copy()\n",
    "\n",
    "pams_li = pams_li[pams_li.obs['batch']=='batch15']\n",
    "\n",
    "pams_li.var['mt'] = pams_li.var_names.str.startswith('mt-')  # annotate the group of mitochondrial genes as 'mt'\n",
    "sc.pp.calculate_qc_metrics(pams_li, qc_vars=['mt'], percent_top=None, log1p=False, inplace=True)\n",
    "sc.pl.violin(pams_li, ['n_genes_by_counts', 'total_counts', 'pct_counts_mt'],\n",
    "             jitter=0.4, multi_panel=True)\n",
    "\n",
    "sc.pl.scatter(pams_li, x='total_counts', y='pct_counts_mt')\n",
    "sc.pl.scatter(pams_li, x='total_counts', y='n_genes_by_counts')\n",
    "\n",
    "pams_li.layers['counts'] = pams_li.X\n",
    "\n",
    "pams_li.raw = pams_li\n",
    "\n",
    "sc.pp.normalize_total(pams_li, target_sum=1e4)\n",
    "sc.pp.log1p(pams_li)\n",
    "\n",
    "sc.pp.highly_variable_genes(pams_li)\n",
    "sc.pl.highly_variable_genes(pams_li)\n",
    "pams_li = pams_li[:, pams_li.var.highly_variable]\n",
    "sc.pp.scale(pams_li)\n",
    "\n",
    "sc.tl.pca(pams_li)\n",
    "sc.pl.pca(pams_li, color='sample')\n",
    "\n",
    "sc.pp.neighbors(pams_li)\n",
    "sc.tl.umap(pams_li)\n",
    "sc.pl.umap(pams_li, color=['sample'])"
   ]
  },
  {
   "cell_type": "code",
   "execution_count": null,
   "id": "5249a737-9b10-4070-99d3-f236dd278e95",
   "metadata": {},
   "outputs": [],
   "source": [
    "import leidenalg\n",
    "sc.tl.leiden(pams_li, key_added=\"leiden_res0_1\", resolution=0.1)\n",
    "sc.tl.leiden(pams_li, key_added=\"leiden_res0_25\", resolution=0.25)\n",
    "sc.tl.leiden(pams_li, key_added=\"leiden_res0_5\", resolution=0.5)\n",
    "sc.tl.leiden(pams_li, key_added=\"leiden_res1\", resolution=1.0)\n",
    "sc.pl.umap(pams_li, color = [\"leiden_res0_1\", \"leiden_res0_25\", \"leiden_res0_5\", \"leiden_res1\"], legend_loc = 'on data')\n",
    "sc.pl.umap(pams_li, color = ['Apoe','Clec7a', 'Gpnmb','Spp1'], color_map = 'Purples')"
   ]
  },
  {
   "cell_type": "code",
   "execution_count": null,
   "id": "c1d11dae-d081-4f0d-8b69-f84975427645",
   "metadata": {},
   "outputs": [],
   "source": [
    "sc.tl.rank_genes_groups(pams_li, 'leiden_res1', method='wilcoxon')\n",
    "sc.pl.rank_genes_groups_dotplot(pams_li, groups = ['1','2','3','0','5','6'], groupby='leiden_res1', n_genes = 10)"
   ]
  },
  {
   "cell_type": "code",
   "execution_count": null,
   "id": "7f115e86-73f8-41db-ad41-eaa7d6ea5235",
   "metadata": {},
   "outputs": [],
   "source": [
    "li_cluster_ID = pams_li.obs['leiden_res1'].unique().tolist()\n",
    "\n",
    "li.obs['functional_cluster'] = np.nan\n",
    "for x in li_cluster_ID:\n",
    "    indices = pams_li.obs.index[pams_li.obs['leiden_res1'].isin([x])].to_list()\n",
    "    li.obs.loc[indices,'functional_cluster'] = 'Li'+str(x)\n",
    "\n",
    "li_unknown_cluster_indices = li.obs.index[li.obs['batch']== 'batch16'].to_list()\n",
    "li.obs.loc[li_unknown_cluster_indices,'functional_cluster'] = 'unknown'\n",
    "\n",
    "li.obs"
   ]
  },
  {
   "cell_type": "markdown",
   "id": "57b46b41-a3a4-420e-bf4d-e36acc4a570b",
   "metadata": {},
   "source": [
    "#### Li2 is the PAM cluster. I will keep the current annotation and decide if I need an additional column to group this with the DAM clusters."
   ]
  },
  {
   "cell_type": "code",
   "execution_count": null,
   "id": "1a5b5de5-abae-4bb0-a8d1-9abe6d7d3477",
   "metadata": {},
   "outputs": [],
   "source": [
    "escoubas.obs['functional_cluster']=escoubas.obs['functional_cluster'].astype('category')\n",
    "hammond.obs['functional_cluster']=hammond.obs['functional_cluster'].astype('category')\n",
    "ramirez.obs['functional_cluster']=ramirez.obs['functional_cluster'].astype('category')\n",
    "keren_shaul.obs['functional_cluster']=keren_shaul.obs['functional_cluster'].astype('category')\n",
    "zhou.obs['functional_cluster']=zhou.obs['functional_cluster'].astype('category')\n",
    "li.obs['functional_cluster']=li.obs['functional_cluster'].astype('category')"
   ]
  },
  {
   "cell_type": "code",
   "execution_count": null,
   "id": "141f079b-bd44-4c53-b1ef-4d9f604e967f",
   "metadata": {},
   "outputs": [],
   "source": [
    "concat_final = anndata.concat([escoubas,hammond,ramirez,keren_shaul,zhou,li])"
   ]
  },
  {
   "cell_type": "code",
   "execution_count": null,
   "id": "f2ce33ed-d4bc-42c7-8b81-517ff7cf5f4e",
   "metadata": {},
   "outputs": [],
   "source": [
    "concat_final.write('/Volumes/Argonaut/Hevin_OE_SingleCell_RNAseq/Compare_Outside_Data/SCVI_Integrate_public_datasets_250124/Input_Anndata/Concat_raw_annotated.h5ad')"
   ]
  },
  {
   "cell_type": "markdown",
   "id": "9e5ad9b0-e9ac-4c6f-a94e-18fbfbcdb335",
   "metadata": {
    "jp-MarkdownHeadingCollapsed": true
   },
   "source": [
    "# Export files for ProjecTILs in Seurat"
   ]
  },
  {
   "cell_type": "code",
   "execution_count": null,
   "id": "3b60c29b-0f2c-449b-9c14-058f07c83cfc",
   "metadata": {},
   "outputs": [],
   "source": [
    "adata1 = sc.read_h5ad('/Volumes/Argonaut/Hevin_OE_SingleCell_RNAseq/Compare_Outside_Data/SCVI_Integrate_public_datasets_250124/Input_Anndata/Concat_raw_annotated.h5ad')"
   ]
  },
  {
   "cell_type": "code",
   "execution_count": null,
   "id": "f6deb837-4925-45a2-bd43-414e98af2d28",
   "metadata": {},
   "outputs": [],
   "source": [
    "adata = anndata.AnnData(adata1.X.toarray())\n",
    "adata.obs_names = adata1.obs_names\n",
    "adata.var_names = adata1.var_names\n",
    "\n",
    "adata.obs['sample'] = adata1.obs['sample']\n",
    "adata.obs['condition'] = adata1.obs['condition']\n",
    "adata.obs['genotype'] = adata1.obs['genotype']\n",
    "adata.obs['age'] = adata1.obs['age']\n",
    "adata.obs['dataset'] = adata1.obs['dataset']\n",
    "adata.obs['cluster'] = adata1.obs['functional_cluster']\n",
    "adata.obs['batch'] = adata1.obs['batch']"
   ]
  },
  {
   "cell_type": "code",
   "execution_count": null,
   "id": "f3623433-c40d-4c88-9b5d-e3b7e9a36c48",
   "metadata": {},
   "outputs": [],
   "source": [
    "adata_hev = adata[adata.obs['condition']=='Hevin OE']\n",
    "adata_mcherry = adata[adata.obs['condition']=='mCherry OE']\n",
    "adata_ram = adata[adata.obs['dataset']=='Ramirezetal']\n",
    "adata_ham = adata[adata.obs['dataset']=='Hammondetal']\n",
    "adata_ker = adata[adata.obs['dataset']=='Keren-Shauletal']\n",
    "adata_zho = adata[adata.obs['dataset']=='Zhouetal']\n",
    "adata_li = adata[adata.obs['dataset']=='Lietal']\n",
    "adata_esc = adata[adata.obs['dataset']=='Escoubasetal']"
   ]
  },
  {
   "cell_type": "code",
   "execution_count": null,
   "id": "41762ee2-35f4-4517-a1a8-293d1fe251e2",
   "metadata": {},
   "outputs": [],
   "source": [
    "adata_inf = adata_esc[adata_esc.obs['cluster'].isin(['Escoubas8'])]\n",
    "adata_homeo = adata_esc[adata_esc.obs['cluster'].isin(['Escoubas0','Escoubas5'])]\n",
    "\n",
    "adata_pam = adata_li[adata_li.obs['cluster'].isin(['Li2'])]\n",
    "adata_non_pam = adata_li[adata_li.obs['cluster'].isin(['Li1','Li3'])]\n",
    "\n",
    "adata_ker_batch17 = adata_ker[adata_ker.obs['batch']=='batch17']\n",
    "adata_ker_wt = adata_ker_batch17[adata_ker_batch17.obs['genotype']=='WT']\n",
    "adata_ker_ad = adata_ker_batch17[adata_ker_batch17.obs['genotype']=='5XFAD']\n",
    "\n",
    "adata_zho_batch20 = adata_zho[adata_zho.obs['batch']=='batch20']\n",
    "adata_zho_wt = adata_zho_batch20[adata_zho_batch20.obs['genotype']=='WT']\n",
    "adata_zho_ad = adata_zho_batch20[adata_zho_batch20.obs['genotype']=='5XFAD']\n",
    "\n",
    "adata_lpc = adata_ham[adata_ham.obs['condition']=='LPC']\n",
    "adata_sal = adata_ham[adata_ham.obs['condition']=='SALINE']\n",
    "\n",
    "adata_e14 = adata_ham[adata_ham.obs['condition']=='E14']\n",
    "adata_p4_5 = adata_ham[adata_ham.obs['condition'].isin(['P4','P5'])]\n",
    "adata_p30 = adata_ham[adata_ham.obs['condition']=='P30']\n",
    "adata_p100 = adata_ham[adata_ham.obs['condition']=='P100']\n",
    "adata_old = adata_ham[adata_ham.obs['condition']=='Old']"
   ]
  },
  {
   "cell_type": "code",
   "execution_count": null,
   "id": "f340815b-fbd6-4e33-85ae-642a1c628e97",
   "metadata": {},
   "outputs": [],
   "source": [
    "export = '/Volumes/Argonaut/Hevin_OE_SingleCell_RNAseq/Compare_Outside_Data/SCVI_Integrate_public_datasets_250124/ProjectTILs/AnnData_Input/'\n",
    "adata_inf.write(export+'Escoubas_Inf.h5ad')\n",
    "adata_homeo.write(export+'Escoubas_Homeo.h5ad')\n",
    "\n",
    "adata_pam.write(export+'Li_pams.h5ad')\n",
    "adata_non_pam.write(export+'Li_nonpams.h5ad')\n",
    "\n",
    "adata_ker_wt.write(export+'Keren-Shaul_WT.h5ad')\n",
    "adata_ker_ad.write(export+'Keren-Shaul_AD.h5ad')\n",
    "\n",
    "adata_zho_wt.write(export+'Zhou_WT.h5ad')\n",
    "adata_zho_ad.write(export+'Zhou_AD.h5ad')\n",
    "\n",
    "adata_lpc.write(export+'Hammond_LPC.h5ad')\n",
    "adata_sal.write(export+'Hammond_Saline.h5ad')\n",
    "\n",
    "adata_e14.write(export+'Hammond_E14.h5ad')\n",
    "adata_p4_5.write(export+'Hammond_P4-5.h5ad')\n",
    "adata_p30.write(export+'Hammond_P30.h5ad')\n",
    "adata_p100.write(export+'Hammond_P100.h5ad')\n",
    "adata_old.write(export+'Hammond_Old.h5ad')"
   ]
  },
  {
   "cell_type": "code",
   "execution_count": null,
   "id": "d8a6be5f-d4da-461e-8036-67f5d7986f8a",
   "metadata": {},
   "outputs": [],
   "source": [
    "adata_hev.write(export+'Ramirez_Hevin.h5ad')\n",
    "adata_mcherry.write(export+'Ramirez_mCherry.h5ad')\n",
    "adata_ram.write(export+'Ramirez_reference.h5ad')"
   ]
  },
  {
   "cell_type": "markdown",
   "id": "c726eaf8-16a5-496d-bd3d-4737f94cb34e",
   "metadata": {
    "jp-MarkdownHeadingCollapsed": true
   },
   "source": [
    "# Read in Ramirez et al. data post-Seurat"
   ]
  },
  {
   "cell_type": "code",
   "execution_count": 9,
   "id": "bd313f70-efd1-4840-8c90-65922cd129eb",
   "metadata": {},
   "outputs": [],
   "source": [
    "adata_hev = sc.read_csv('/Volumes/Argo II/SingleCell_GEO_Submission/Ramirez_normalized_counts.csv')\n",
    "meta_data_hev = pd.read_csv('/Volumes/Argo II/SingleCell_GEO_Submission/Ramirez_metadata.csv')"
   ]
  },
  {
   "cell_type": "code",
   "execution_count": 10,
   "id": "9728626e-6b2d-46ed-8f4d-db25ad500fa2",
   "metadata": {},
   "outputs": [],
   "source": [
    "adata_ram = adata_hev.transpose()"
   ]
  },
  {
   "cell_type": "code",
   "execution_count": 12,
   "id": "b97ccdba-bead-41b9-a6ad-97625c0c6684",
   "metadata": {},
   "outputs": [],
   "source": [
    "adata_ram.obs['sample'] = meta_data_hev['sample'].to_numpy()\n",
    "adata_ram.obs['condition'] = meta_data_hev['condition'].to_numpy()\n",
    "adata_ram.obs['genotype'] = meta_data_hev['genotype'].to_numpy()\n",
    "adata_ram.obs['age'] = meta_data_hev['age'].to_numpy()\n",
    "adata_ram.obs['dataset'] = meta_data_hev['dataset'].to_numpy()\n",
    "adata_ram.obs['cluster'] = meta_data_hev['functional.cluster'].to_numpy()"
   ]
  },
  {
   "cell_type": "code",
   "execution_count": 13,
   "id": "1272e1ad-4906-41e6-ba17-cdd4941af5bc",
   "metadata": {},
   "outputs": [],
   "source": [
    "marker_genes = [\n",
    "    'P2ry12',\n",
    "    'Itgam',\n",
    "    'Tmem119',\n",
    "    'Cx3cr1',\n",
    "    'Hexb',\n",
    "    'Tgfbr1',\n",
    "    'Fcrls',\n",
    "    'C1qa',\n",
    "    'Trem2',\n",
    "    \n",
    "    \n",
    "    'Lilra5',\n",
    "    'Clec4n',\n",
    "    'Ednrb',\n",
    "    'Snx6',\n",
    "    'Snx2',\n",
    "    'Dab2',\n",
    "    'Cd36',\n",
    "    'Ap1b1',\n",
    "    'Mrc1',\n",
    "    'Cd163',\n",
    "    \n",
    "    'Clec10a',\n",
    "    'Ptprc',\n",
    "    'H2-Eb1',\n",
    "    'H2-Aa',\n",
    "    'Ccr2',\n",
    "    'Cd209a',\n",
    "    'Ace',\n",
    "    'Nr4a1',\n",
    "    \n",
    "    'Ly6c1',\n",
    "    'Ly6c2',\n",
    "    'Pecam1',\n",
    "    'Cldn5',\n",
    "    'Slco1c1',\n",
    "    'Ocln',\n",
    "\n",
    "    'Sparcl1',\n",
    "    'Slc1a2',\n",
    "    'Slc1a3',\n",
    "    'Ptprz1',\n",
    "    'Nrxn1',\n",
    "    'S100b',\n",
    "    'Ncan',\n",
    "    'Gja1',\n",
    "    'Gjb6',\n",
    "    'Sox9',\n",
    "    'Ezr',\n",
    "    'Aqp4',\n",
    "]"
   ]
  },
  {
   "cell_type": "code",
   "execution_count": null,
   "id": "56b344a7-9428-4fa3-8b36-224494768c91",
   "metadata": {},
   "outputs": [],
   "source": [
    "image_directory = '/Volumes/Argonaut/Hevin_OE_SingleCell_RNAseq/Figure_Drafts/250204/'\n",
    "os.chdir(image_directory)\n",
    "\n",
    "sc.pl.dotplot(\n",
    "    adata_ram,\n",
    "    categories_order = ['Cluster 0','Cluster 1','Cluster 2','Cluster 3','Cluster 4','Cluster 5','Cluster 6'],\n",
    "    groupby=\"cluster\",\n",
    "    var_names=marker_genes,\n",
    "    standard_scale=\"var\",  # standard scale: normalize each gene to range from 0 to 1\n",
    "    cmap = 'viridis',\n",
    "    save = 'Celltype_Markers_dotplot.pdf'\n",
    ")"
   ]
  },
  {
   "cell_type": "code",
   "execution_count": null,
   "id": "b1eecbe2-b3ca-4e2b-b260-9f0069e1ad3d",
   "metadata": {},
   "outputs": [],
   "source": [
    "sc.tl.rank_genes_groups(adata_ram, 'cluster', method='wilcoxon')\n",
    "sc.pl.rank_genes_groups(adata_ram)"
   ]
  },
  {
   "cell_type": "code",
   "execution_count": null,
   "id": "4b0ba72d-cede-47e2-b850-dffb155e4bf2",
   "metadata": {},
   "outputs": [],
   "source": [
    "result = adata_ram.uns[\"rank_genes_groups\"]\n",
    "groups = result[\"names\"].dtype.names\n",
    "grouped_results = pd.DataFrame(\n",
    "    {\n",
    "        group + \"_\" + key[:1]: result[key][group]\n",
    "        for group in groups\n",
    "        for key in [\"names\", \"scores\", \"logfoldchanges\", \"pvals_adj\"]\n",
    "    }\n",
    ")\n",
    "\n",
    "grouped_results.to_csv('/Volumes/Argonaut/Hevin_OE_SingleCell_RNAseq/Figure_Drafts/250204/Ramirez_etal_Wilcoxon.csv')"
   ]
  },
  {
   "cell_type": "code",
   "execution_count": null,
   "id": "32611e77-f455-4657-bf1f-91db5eeb5cc4",
   "metadata": {},
   "outputs": [],
   "source": [
    "marker_genes_top5 = {\n",
    "    \"Cluster 0\": [\"Cst3\",\"Sparc\",\"P2ry12\",\"Hexb\",\"Selplg\"],\n",
    "    \"Cluster 1\": [\"Apoe\",\"Bst2\",\"Pmepa1\",\"Tmem176b\",\"Gpr65\"],\n",
    "    \"Cluster 2\": [\"Mrc1\",\"F13a1\",\"Cbr2\",\"Dab2\",\"Pf4\"],\n",
    "    \"Cluster 3\": ['Cldn5','Bsg','Flt1','Tsc22d1','Igfbp7'],\n",
    "    \"Cluster 4\": ['S100a6','Crip1','Cd74','Plbd1','Lsp1'], \n",
    "    \"Cluster 5\": ['Hmgb2','Stmn1','H2az1','Hmgn2','Hmgn2-ps'],\n",
    "    \"Cluster 6\": ['Ptn', 'Cpe', 'Atp1a2','Slc1a2','Sparcl1'],\n",
    "}"
   ]
  },
  {
   "cell_type": "code",
   "execution_count": null,
   "id": "d94700b5-8557-4380-90fb-a84ad2d94f6c",
   "metadata": {},
   "outputs": [],
   "source": [
    "sc.pl.dotplot(\n",
    "    adata_ram,\n",
    "    categories_order = ['Cluster 0','Cluster 1','Cluster 2','Cluster 3','Cluster 4','Cluster 5','Cluster 6'],\n",
    "    groupby=\"cell_type\",\n",
    "    var_names=marker_genes_top5,\n",
    "    standard_scale=\"var\",  # standard scale: normalize each gene to range from 0 to 1\n",
    "    cmap = 'viridis',\n",
    "    save = \"Top_5_marker_genes_by_cluster.pdf\"\n",
    ")"
   ]
  },
  {
   "cell_type": "code",
   "execution_count": null,
   "id": "270cf5e2-270c-48e7-a695-13966b60083f",
   "metadata": {},
   "outputs": [],
   "source": [
    "sc.pl.dotplot(\n",
    "    adata_ram,\n",
    "    categories_order = ['Cluster 0','Cluster 1','Cluster 2','Cluster 3','Cluster 4','Cluster 5','Cluster 6'],\n",
    "    groupby=\"cell_type\",\n",
    "    var_names=['Tlr2','Tlr1','Ly96','Cd14','Tlr4'],\n",
    "    standard_scale=\"var\",  # standard scale: normalize each gene to range from 0 to 1\n",
    "    cmap = 'viridis',\n",
    "    save = \"TLR_related_genes.pdf\"\n",
    ")"
   ]
  },
  {
   "cell_type": "code",
   "execution_count": null,
   "id": "8c7df376-c3a5-404a-aad8-071636a41850",
   "metadata": {},
   "outputs": [],
   "source": [
    "marker_genes = ['Apoe','Cd63','Ctsb','Lyz2','Plek','Pld3','Igf1','Anxa5','Plin2','Ctsd','Cd9','Spp1','Lpl',\n",
    "'Gpnmb',\n",
    "'Hpse',\n",
    "'Aplp2',\n",
    "'Gpx3',\n",
    "'Csf1',\n",
    "'Lgals3',\n",
    "]\n",
    "\n",
    "sc.pl.dotplot(\n",
    "    hevin,\n",
    "    categories_order = ['Cluster 0','Cluster 1','Cluster 2','Cluster 3','Cluster 4','Cluster 5','Cluster 6'],\n",
    "    groupby=\"cell_type\",\n",
    "    var_names=marker_genes,\n",
    "    standard_scale=\"var\",  # standard scale: normalize each gene to range from 0 to 1\n",
    "    cmap = 'viridis',\n",
    "    save = \"PAM_genes_allclusters.png\"\n",
    ")"
   ]
  },
  {
   "cell_type": "code",
   "execution_count": null,
   "id": "81385c99-0310-4747-88c7-565a5e692ea8",
   "metadata": {},
   "outputs": [],
   "source": [
    "marker_genes = ['Apoe','Cd63','Ctsb','Lyz2','Plek','Pld3','Igf1','Anxa5','Plin2','Ctsd','Cd9','Spp1','Lpl',\n",
    "'Gpnmb',\n",
    "'Hpse',\n",
    "'Aplp2',\n",
    "'Gpx3',\n",
    "'Csf1',\n",
    "'Lgals3',\n",
    "]\n",
    "\n",
    "hevin_micro = hevin[hevin.obs['cell_type'].isin(['Cluster 0','Cluster 5','Cluster 1'])]\n",
    "sc.pl.dotplot(\n",
    "    hevin_micro,\n",
    "    categories_order = ['Cluster 0','Cluster 5','Cluster 1'],\n",
    "    groupby=\"cell_type\",\n",
    "    var_names=marker_genes,\n",
    "    standard_scale=\"var\",  # standard scale: normalize each gene to range from 0 to 1\n",
    "    cmap = 'viridis',\n",
    "    save = \"PAM_genes_microgliaclusters.png\"\n",
    ")"
   ]
  },
  {
   "cell_type": "code",
   "execution_count": null,
   "id": "2a31aa0a-8c1b-4b6e-bb46-e60d4d4472a8",
   "metadata": {},
   "outputs": [],
   "source": []
  },
  {
   "cell_type": "code",
   "execution_count": null,
   "id": "3223f753-1f3b-477d-8907-5f26cd3ec4a0",
   "metadata": {},
   "outputs": [],
   "source": []
  }
 ],
 "metadata": {
  "kernelspec": {
   "display_name": "scvi-env",
   "language": "python",
   "name": "scvi-env"
  },
  "language_info": {
   "codemirror_mode": {
    "name": "ipython",
    "version": 3
   },
   "file_extension": ".py",
   "mimetype": "text/x-python",
   "name": "python",
   "nbconvert_exporter": "python",
   "pygments_lexer": "ipython3",
   "version": "3.12.7"
  }
 },
 "nbformat": 4,
 "nbformat_minor": 5
}
